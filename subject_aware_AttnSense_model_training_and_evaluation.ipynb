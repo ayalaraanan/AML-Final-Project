{
  "cells": [
    {
      "cell_type": "markdown",
      "metadata": {
        "id": "a-1D9SkNGREp"
      },
      "source": [
        "In this notebook we reconstruct the AttnSense model and perform training and evaluation.\\\n",
        "We show results for many experiments conducted, including:\n",
        "1. Examining model stability\n",
        "2. Optimizing various parameters\n",
        "3. Examining the contribution of different components of the model"
      ]
    },
    {
      "cell_type": "code",
      "execution_count": 20,
      "metadata": {
        "id": "exetwbbavuDR"
      },
      "outputs": [],
      "source": [
        "#imports\n",
        "\n",
        "# basic\n",
        "import os \n",
        "import sys\n",
        "import math\n",
        "from time import time\n",
        "import pickle\n",
        "\n",
        "# general\n",
        "import warnings\n",
        "import numpy as np\n",
        "import scipy as sp\n",
        "import pandas as pd\n",
        "\n",
        "# visual\n",
        "import matplotlib\n",
        "import seaborn as sns\n",
        "import matplotlib.pyplot as plt\n",
        "\n",
        "# notebook\n",
        "from IPython.display import display\n",
        "\n",
        "# Sklean\n",
        "from sklearn.model_selection import train_test_split\n",
        "from sklearn.metrics import accuracy_score , roc_auc_score , confusion_matrix , f1_score\n",
        "from sklearn import metrics\n",
        "\n",
        "from sklearn.linear_model import LogisticRegression\n",
        "from sklearn.ensemble import RandomForestClassifier\n",
        "from sklearn.tree import DecisionTreeClassifier\n",
        "from sklearn.preprocessing import OneHotEncoder\n",
        "from sklearn.preprocessing import MinMaxScaler\n",
        "from sklearn.svm import SVC\n",
        "\n",
        "# torch\n",
        "import torch\n",
        "from torch import nn\n",
        "import torch.nn.functional as F\n",
        "from torch.nn import Sequential\n",
        "from torch.nn import Sigmoid,ReLU\n",
        "from torch.nn import Linear\n",
        "from torch.utils.data import DataLoader, Dataset\n",
        "from torch.optim import Adam,SGD , RMSprop\n",
        "\n",
        "from scipy.fft import fft\n",
        "import gc\n",
        "\n",
        "from tqdm import tqdm\n",
        "import copy  # to save best model parameters\n"
      ]
    },
    {
      "cell_type": "markdown",
      "metadata": {
        "id": "3S26xawQ3qTb"
      },
      "source": [
        "## Datasets & Data Loader"
      ]
    },
    {
      "cell_type": "code",
      "execution_count": 22,
      "metadata": {
        "colab": {
          "base_uri": "https://localhost:8080/"
        },
        "id": "vNkKXTB2H-y_",
        "outputId": "0280b010-65d6-4319-997d-8ea86d984512"
      },
      "outputs": [
        {
          "name": "stdout",
          "output_type": "stream",
          "text": [
            "loaded data file\n"
          ]
        }
      ],
      "source": [
        "path = './train_dev_test_aug1_n20_subject_labels'\n",
        "\n",
        "with open(path , 'rb') as f:\n",
        "  train, dev, test = pickle.load(f)\n",
        "  print('loaded data file')"
      ]
    },
    {
      "cell_type": "code",
      "execution_count": 23,
      "metadata": {
        "id": "77XuYlAb3qTe"
      },
      "outputs": [],
      "source": [
        "from torch.utils.data import DataLoader\n",
        "batch_size = 64\n",
        "dl_train = DataLoader(train, batch_size=batch_size, shuffle=True)\n",
        "dl_dev = DataLoader(dev, batch_size=batch_size)\n",
        "dl_test = DataLoader(test, batch_size=batch_size)"
      ]
    },
    {
      "cell_type": "code",
      "execution_count": 24,
      "metadata": {
        "colab": {
          "base_uri": "https://localhost:8080/"
        },
        "id": "dTmonWEOwBkX",
        "outputId": "48e80589-98e9-45f9-b886-db6e5d55bbea"
      },
      "outputs": [
        {
          "data": {
            "text/plain": [
              "torch.Size([64, 20, 27, 13])"
            ]
          },
          "execution_count": 24,
          "metadata": {},
          "output_type": "execute_result"
        }
      ],
      "source": [
        "dl_iter = iter(dl_train)\n",
        "batch = next(dl_iter)\n",
        "batch[0].shape"
      ]
    },
    {
      "cell_type": "markdown",
      "metadata": {
        "id": "f88ssPMX3qTe"
      },
      "source": [
        "### MODEL\n",
        "\n",
        "There are 4 classes that serve as building blocks for the complete model:\n",
        "1. A class that applies a CNN to a single axis - within a single time-step [Individual_Conv_single]\n",
        "2. A class that manages different CNN's for all the axes of a time-step [Individual_Conv]\n",
        "3. An attention class (soft attention). This is applied both for sensor fusion and for combining time-steps [Attention]\n",
        "4. Subject_aware_attn, which is a varitation of AttnSense, with additional subject classification feature"
      ]
    },
    {
      "cell_type": "code",
      "execution_count": 25,
      "metadata": {
        "id": "7TZXpuM83qTf"
      },
      "outputs": [],
      "source": [
        "device = torch.device('cuda' if torch.cuda.is_available() else 'cpu')\n",
        "\n",
        "def clear_cache():\n",
        "    gc.collect()  # garbage collector\n",
        "    torch.cuda.empty_cache()"
      ]
    },
    {
      "cell_type": "code",
      "execution_count": 26,
      "metadata": {
        "id": "3OQU-Bs-3qTg"
      },
      "outputs": [],
      "source": [
        "class Individual_Conv_single(nn.Module):\n",
        "  # two options are implemented here, for CNN of 1 layer and of 4 layers\n",
        "  # They follow the details given in the paper\n",
        "    def __init__(self ,input_size  , num_conv_layer):\n",
        "        super(Individual_Conv_single, self).__init__()\n",
        "        \n",
        "        layers_conv = []\n",
        "        layers_fc = []\n",
        "        dropout = 0\n",
        "        \n",
        "        if num_conv_layer == 1:\n",
        "            conv_features = 64\n",
        "            layers_conv.append(nn.Conv1d(1, conv_features, 3, stride=1, padding='same'))\n",
        "            layers_conv.append(nn.Dropout(p=dropout))\n",
        "            layers_conv.append(nn.BatchNorm1d(conv_features))\n",
        "            layers_conv.append(nn.ReLU(inplace=True))\n",
        "            layers_conv.append(nn.MaxPool1d(2, stride=2))\n",
        "            \n",
        "           # layers_fc.append(nn.Linear(conv_features*12, input_size)) # without FFT\n",
        "            layers_fc.append(nn.Linear(conv_features*6, input_size)) # for FFT\n",
        "        else:  # 4 layers      \n",
        "            layers_conv.append(nn.Conv1d(1, 32, 3, stride=1, padding='same'))\n",
        "            layers_conv.append(nn.Dropout(p=dropout))\n",
        "            layers_conv.append(nn.BatchNorm1d(32))\n",
        "            layers_conv.append(nn.ReLU(inplace=True))\n",
        "                \n",
        "            layers_conv.append(nn.Conv1d(32, 32, 3, stride=1, padding='same'))\n",
        "            layers_conv.append(nn.Dropout(p=dropout))\n",
        "            layers_conv.append(nn.BatchNorm1d(32))\n",
        "            layers_conv.append(nn.ReLU(inplace=True))\n",
        "            layers_conv.append(nn.MaxPool1d(2, stride=2))\n",
        "        \n",
        "            layers_conv.append(nn.Conv1d(32, 64, 3, stride=1, padding='same'))\n",
        "            layers_conv.append(nn.Dropout(p=dropout))\n",
        "            layers_conv.append(nn.BatchNorm1d(64))\n",
        "            layers_conv.append(nn.ReLU(inplace=True))\n",
        "        \n",
        "            layers_conv.append(nn.Conv1d(64, 64, 3, stride=1, padding='same'))\n",
        "            layers_conv.append(nn.BatchNorm1d(64))\n",
        "            layers_conv.append(nn.ReLU(inplace=True))\n",
        "            layers_conv.append(nn.MaxPool1d(2, stride=2))\n",
        "            \n",
        "           # layers_fc.append(nn.Linear(64*6, input_size)) # without FFT\n",
        "            layers_fc.append(nn.Linear(64*3, input_size))  # for fft\n",
        "        \n",
        "               \n",
        "        layers_fc.append(nn.ReLU(inplace=True))\n",
        "            \n",
        "        self.ind_conv = nn.Sequential(*layers_conv)\n",
        "        self.ind_fc = nn.Sequential(*layers_fc)\n",
        "                \n",
        "    def forward(self, X):  \n",
        "        X_t = X.unsqueeze(1) # input channel\n",
        "        out_conv = self.ind_conv(X_t) \n",
        "        out_conv_flat = out_conv.view(out_conv.shape[0],-1)\n",
        "        out = self.ind_fc(out_conv_flat)\n",
        "        return out\n",
        "\n",
        "    \n",
        "class Individual_Conv(nn.Module):\n",
        "    def __init__(self ,num_features, input_size, num_conv_layer):\n",
        "        super(Individual_Conv, self).__init__()\n",
        "        \n",
        "        self.num_features = num_features\n",
        "        self.module = []\n",
        "        \n",
        "        for feature_num in range(num_features):\n",
        "            self.module.append(Individual_Conv_single(input_size = input_size, num_conv_layer = num_conv_layer) )\n",
        "              \n",
        "            self.add_module(\"feature_{}_Individual_Conv_single\".format(feature_num), \\\n",
        "                            self.module[feature_num])\n",
        "              \n",
        "    def forward(self, X): \n",
        "          \n",
        "        out = []\n",
        "        for feature_num in range(self.num_features):\n",
        "            out.append(self.module[feature_num](X[:, feature_num,:]) )\n",
        "            \n",
        "        return torch.stack(out, dim=1)"
      ]
    },
    {
      "cell_type": "code",
      "execution_count": null,
      "metadata": {
        "colab": {
          "base_uri": "https://localhost:8080/"
        },
        "id": "L-2YBdSJ3qTg",
        "outputId": "415f2ae3-41ab-4b08-def7-e4a3c70ef351"
      },
      "outputs": [
        {
          "name": "stderr",
          "output_type": "stream",
          "text": [
            "/usr/local/lib/python3.7/dist-packages/ipykernel_launcher.py:3: UserWarning: To copy construct from a tensor, it is recommended to use sourceTensor.clone().detach() or sourceTensor.clone().detach().requires_grad_(True), rather than torch.tensor(sourceTensor).\n",
            "  This is separate from the ipykernel package so we can avoid doing imports until\n"
          ]
        },
        {
          "name": "stdout",
          "output_type": "stream",
          "text": [
            "torch.Size([64, 27, 13])\n"
          ]
        },
        {
          "data": {
            "text/plain": [
              "torch.Size([64, 27, 13])"
            ]
          },
          "execution_count": 17,
          "metadata": {},
          "output_type": "execute_result"
        }
      ],
      "source": [
        "# TEST\n",
        "\n",
        "X = torch.tensor(batch[0][:, 0, :, :],dtype=torch.float32).to(device)\n",
        "print(X.shape)\n",
        "model = Individual_Conv(num_features = X.shape[1] ,  input_size = X.shape[2] , num_conv_layer=1).to(device)\n",
        "#print(model)\n",
        "model(X).shape\n"
      ]
    },
    {
      "cell_type": "code",
      "execution_count": 27,
      "metadata": {
        "id": "vCVUdCBP3qTh"
      },
      "outputs": [],
      "source": [
        "#https://www.kaggle.com/code/mlwhiz/attention-pytorch-and-keras/notebook\n",
        "\n",
        "class Attention(nn.Module):\n",
        "    def __init__(self,  input_size):\n",
        "        super(Attention, self).__init__()\n",
        "        \n",
        "        self.input_size = input_size\n",
        "        # Linear \n",
        "        self.linear = nn.Linear(input_size, input_size)\n",
        "        \n",
        "        # Conext vector \n",
        "        context_weight = torch.zeros(input_size, 1)\n",
        "        nn.init.kaiming_uniform_(context_weight)\n",
        "        self.context_weight = nn.Parameter(context_weight)     \n",
        "     \n",
        "    def forward(self, X):   # X dim (batch , feature number / step , feature_vect)\n",
        "        \n",
        "        num_features = X.shape[1]\n",
        "        linear = []\n",
        "        \n",
        "        X_linear = torch.tanh(self.linear(X))   # X_linear dimension is (Batch , feature , embedding = input_size)\n",
        "                  \n",
        "        eij = torch.matmul(X_linear, self.context_weight)     # eij domain is (batch , feature_num,1)\n",
        "\n",
        "        a = torch.exp(eij)\n",
        "        \n",
        "        a = a / (torch.sum(a, dim = 1, keepdim=True) + 1e-10)\n",
        "                \n",
        "        weighted_input = X *a\n",
        "\n",
        "        return torch.sum(weighted_input, 1)   "
      ]
    },
    {
      "cell_type": "code",
      "execution_count": null,
      "metadata": {
        "colab": {
          "base_uri": "https://localhost:8080/"
        },
        "id": "12zmDNbD3qTh",
        "outputId": "542ce00e-dabf-43ba-a0ea-59c08774e940"
      },
      "outputs": [
        {
          "name": "stderr",
          "output_type": "stream",
          "text": [
            "/usr/local/lib/python3.7/dist-packages/ipykernel_launcher.py:3: UserWarning: To copy construct from a tensor, it is recommended to use sourceTensor.clone().detach() or sourceTensor.clone().detach().requires_grad_(True), rather than torch.tensor(sourceTensor).\n",
            "  This is separate from the ipykernel package so we can avoid doing imports until\n"
          ]
        },
        {
          "data": {
            "text/plain": [
              "torch.Size([64, 13])"
            ]
          },
          "execution_count": 50,
          "metadata": {},
          "output_type": "execute_result"
        }
      ],
      "source": [
        "# TEST\n",
        "\n",
        "X = torch.tensor(batch[0][:, 0, :, :],dtype=torch.float32).to(device)\n",
        "model = Attention(input_size = X.shape[2]).to(device)\n",
        "model(X).shape"
      ]
    },
    {
      "cell_type": "markdown",
      "metadata": {},
      "source": [
        "In the following model we implement a variation over AttnSense with subject classification\\\n",
        "The Forward method returns preditions for both subject and classification so that training can be done on two combined losses. "
      ]
    },
    {
      "cell_type": "code",
      "execution_count": 28,
      "metadata": {
        "id": "jDeeK5ImMNfz"
      },
      "outputs": [],
      "source": [
        "class Subject_aware_attn(nn.Module):\n",
        "    def __init__(self, num_features,input_size, num_conv_layer, hidden_size, AG, AF, num_classes, num_subjects, dropout = 0):\n",
        "        super(Subject_aware_attn, self).__init__()\n",
        "\n",
        "        self.num_subjects = num_subjects\n",
        "        self.AG = AG #AG = Attention for combining GRU outputs of timesteps\n",
        "        self.AF = AF #AF = Attention for fusion of sensors outputs\n",
        "        \n",
        "        self.Individual_Conv = Individual_Conv(num_features = num_features,   \\\n",
        "                                                 input_size = input_size, num_conv_layer = num_conv_layer)\n",
        "        \"\"\"\n",
        "        if self.AF == True:\n",
        "            self.Attention_stage1 = Attention(input_size = input_size)\n",
        "            gru_input_size = input_size\n",
        "        else:\n",
        "            gru_input_size = input_size*num_features # optional for output concatanation if no attention is apllied\n",
        "        \"\"\"\n",
        "        if self.AF == True:\n",
        "            self.Attention_stage1 = Attention(input_size = input_size)\n",
        "        gru_input_size = input_size\n",
        "        \n",
        "        self.gru = nn.GRU(input_size = gru_input_size, hidden_size = hidden_size, \\\n",
        "                            num_layers = 2, batch_first = True, dropout = dropout , \\\n",
        "                            bidirectional=False)  \n",
        "        \n",
        "        if self.AG == True:\n",
        "            self.Attention_stage2 = Attention(input_size = hidden_size)\n",
        "\n",
        "        self.fc_subject = nn.Linear(hidden_size, num_subjects)\n",
        "        self.fc_activity = nn.Linear(hidden_size+num_subjects, num_classes)\n",
        "        # self.fc_activity = nn.Linear(hidden_size+1, num_classes)\n",
        "        \n",
        "    def forward(self, X, sub_label, train = False):   # X dim [Batch , N (word) , feature num , input_size]\n",
        "        seq_size = X.shape[1]\n",
        "        Att_stage1 = []\n",
        "        for seq_size_num in range(seq_size):\n",
        "            # Individual Conv\n",
        "            v = self.Individual_Conv(X[:,seq_size_num,:,:])  # Take from x (batch , features , input_size) \n",
        "            \n",
        "            # First layer attension\n",
        "            if self.AF == True:\n",
        "                att = self.Attention_stage1(v) \n",
        "            else:\n",
        "                # concat all the features \n",
        "                #att = v.view(v.shape[0],-1)\n",
        "                # mean\n",
        "                att = v.mean(dim = 1)\n",
        "                \n",
        "            Att_stage1.append(att)   \n",
        "        \n",
        "        C = torch.stack(Att_stage1 , dim=1)   # C results is (batch , seq_size , input_size)\n",
        "        \n",
        "        h_out, hn = self.gru(C)\n",
        "        \n",
        "        if self.AG == True:   \n",
        "            delta = self.Attention_stage2(h_out)  \n",
        "            #delta = h_out[:,-1,:] \n",
        "        else:\n",
        "            delta = h_out.mean(dim = 1)\n",
        "        \n",
        "        output_sub = self.fc_subject(delta)\n",
        "        if train:\n",
        "          ones_hot = F.one_hot(sub_label, self.num_subjects)\n",
        "          delta_plus = torch.concat((delta, ones_hot), dim = 1)\n",
        "        else:\n",
        "          # pred_sub = torch.argmax(output_sub, dim = 1).unsqueeze(dim = 1)\n",
        "          # delta_plus = torch.concat((delta, pred_sub), dim = 1)\n",
        "          delta_plus = torch.concat((delta, F.softmax(output_sub, dim = 1)), dim = 1)\n",
        "\n",
        "        output_act = self.fc_activity(delta_plus)\n",
        "             \n",
        "        return output_sub, output_act"
      ]
    },
    {
      "cell_type": "code",
      "execution_count": 29,
      "metadata": {
        "colab": {
          "base_uri": "https://localhost:8080/"
        },
        "id": "tHK_mdcFxh1S",
        "outputId": "a77d68d1-3bf5-4daa-9b32-6159d2bb22fb"
      },
      "outputs": [
        {
          "name": "stderr",
          "output_type": "stream",
          "text": [
            "/usr/local/lib/python3.7/dist-packages/ipykernel_launcher.py:1: UserWarning: To copy construct from a tensor, it is recommended to use sourceTensor.clone().detach() or sourceTensor.clone().detach().requires_grad_(True), rather than torch.tensor(sourceTensor).\n",
            "  \"\"\"Entry point for launching an IPython kernel.\n"
          ]
        }
      ],
      "source": [
        "X = torch.tensor(batch[0],dtype=torch.float32).to(device)\n",
        "model = Subject_aware_attn(num_features = X.shape[2] , input_size = X.shape[3] , num_conv_layer = 4  \\\n",
        "                  , hidden_size = 50, AG = True, AF = True, num_classes = 12, num_subjects = 9).to(device)\n",
        "\n",
        "lr = 1e-4\n",
        "optimizer  = Adam(model.parameters(), lr=lr , weight_decay = 1e-4) "
      ]
    },
    {
      "cell_type": "markdown",
      "metadata": {
        "id": "LUS0G8E53qTj"
      },
      "source": [
        "## Training"
      ]
    },
    {
      "cell_type": "markdown",
      "metadata": {
        "id": "wHU4K5EzP0i8"
      },
      "source": [
        "1. The training uses a cross-entropy loss for both subject and activity classification and Adam optimizer with learning rate and weight decay at 1e-4.\n",
        "2. subject and activity losses are weighted using a parameter alpha.\n",
        "3. With each epoch we evaluate accuracy, loss and f1-score on the dev dataset.\n",
        "4. Stopping criteria is when f1-score for dev has not improved for 10 epochs. The best model is always saved and reloaded.\n",
        "\n",
        "Below we define our \"base model\" with the recommended configuration of the paper:\n",
        "* 4 covolution layers\n",
        "* window size of N=20\n",
        "\n",
        "We run the model over data **without augmentation**."
      ]
    },
    {
      "cell_type": "code",
      "execution_count": 30,
      "metadata": {
        "id": "FHtSCpq93qTj"
      },
      "outputs": [],
      "source": [
        "# Ref: https://mccormickml.com/2019/07/22/BERT-fine-tuning/#41-bertforsequenceclassification\n",
        "            \n",
        "def train_loop(model, optimizer , n_epochs, dl_train, dl_dev,device , early_stopping = 10,  verbose=False, alpha = 0.2):\n",
        "  # Loss function\n",
        "  criterion1 = nn.CrossEntropyLoss()\n",
        "  criterion2 = nn.CrossEntropyLoss()\n",
        " \n",
        "  for e in range(1, n_epochs + 1):\n",
        "    loss_train_arr = []\n",
        "    loss_dev_arr = []\n",
        "    acc_train_arr = []\n",
        "    acc_dev_arr = []\n",
        "    f1_train_arr = []\n",
        "    f1_dev_arr = []\n",
        "\n",
        "    loss_train_arr_sub = []\n",
        "    loss_dev_arr_sub = []\n",
        "    # acc_train_arr_sub = []\n",
        "    # acc_dev_arr_sub = []\n",
        "    f1_train_arr_sub = []\n",
        "    f1_dev_arr_sub = []\n",
        "     \n",
        "    epochs_without_improvement = 0\n",
        "    best_dev_loss = None \n",
        "    best_dev_acc = None\n",
        "    best_dev_f1 = None\n",
        "    \n",
        "    for epoch in range(1, n_epochs + 1):\n",
        "        \n",
        "        #################\n",
        "        ### Train loop ##\n",
        "        ################\n",
        "        model.train()\n",
        "        train_loss = 0\n",
        "        train_loss_sub = 0\n",
        "        train_acc = 0\n",
        "        y_true = []\n",
        "        y_pred = []\n",
        "        y_true_sub = []\n",
        "        y_pred_sub = []\n",
        "        \n",
        "        for batch in tqdm(dl_train, disable=(not verbose)):\n",
        "            data, label = batch      \n",
        "            # Send tensors to GPU\n",
        "            data = data.to(device)\n",
        "            act_label = label[0]\n",
        "            sub_label = label[1]\n",
        "            act_label = act_label.to(device) \n",
        "            sub_label = sub_label.to(device)          \n",
        "               \n",
        "            pred_sub, pred_act = model(data, sub_label, train = True)\n",
        "            loss_act = criterion2(pred_act, act_label)\n",
        "            loss_sub = criterion1(pred_sub, sub_label)\n",
        "            loss = alpha * loss_sub + (1-alpha) * loss_act\n",
        "                     \n",
        "            optimizer.zero_grad()\n",
        "            loss.backward()\n",
        "            optimizer.step()               \n",
        "            # agg batch results\n",
        "            train_loss += loss.item()\n",
        "            train_loss_sub += loss_sub.item()\n",
        "            pred_cls = np.argmax(pred_act.detach().to('cpu').numpy(), axis = 1)\n",
        "            y_true.extend(act_label.detach().to('cpu').numpy())\n",
        "            y_pred.extend(pred_cls) \n",
        "            pred_subject = np.argmax(pred_sub.detach().to('cpu').numpy(), axis = 1)\n",
        "            y_true_sub.extend(sub_label.detach().to('cpu').numpy())\n",
        "            y_pred_sub.extend(pred_subject) \n",
        "            \n",
        "        # Agg epoch results \n",
        "        train_loss = train_loss / len(dl_train) \n",
        "        train_loss_sub = train_loss_sub / len(dl_train)            \n",
        "        loss_train_arr.append(train_loss) \n",
        "        loss_train_arr_sub.append(train_loss_sub)        \n",
        "        train_acc = accuracy_score(y_true, y_pred)          \n",
        "        acc_train_arr.append(train_acc)\n",
        "        train_f1  = f1_score(y_true, y_pred,sample_weight=None, average  = 'weighted', zero_division='warn')\n",
        "        f1_train_arr.append(train_f1)\n",
        "        train_f1_sub  = f1_score(y_true_sub, y_pred_sub,sample_weight=None, average  = 'weighted', zero_division='warn')\n",
        "        f1_train_arr_sub.append(train_f1_sub)\n",
        "   \n",
        "        ####################\n",
        "        # Dev  evaluation #\n",
        "        ###################\n",
        "        dev_loss = 0\n",
        "        dev_acc = 0\n",
        "        y_true = []\n",
        "        y_pred = []\n",
        "        dev_loss_sub = 0\n",
        "        # dev_acc = 0\n",
        "        y_true_sub = []\n",
        "        y_pred_sub = []\n",
        "        \n",
        "        model.eval()\n",
        "        with torch.no_grad():\n",
        "            for batch  in tqdm(dl_dev, disable=(not verbose)):\n",
        "                data, label = batch      \n",
        "                # Send tensors to GPU\n",
        "                data = data.to(device)               \n",
        "                act_label = label[0]\n",
        "                sub_label = label[1]\n",
        "                act_label = act_label.to(device) \n",
        "                sub_label = sub_label.to(device)            \n",
        "                  \n",
        "                pred_sub, pred_act = model(data, sub_label, train = False)\n",
        "                loss_act = criterion2(pred_act, act_label)\n",
        "                loss_sub = criterion1(pred_sub, sub_label)\n",
        "                loss = alpha * loss_sub + (1-alpha) * loss_act\n",
        "\n",
        "                # Agg results\n",
        "                dev_loss += loss.item()\n",
        "                dev_loss_sub += loss_sub.item()\n",
        "                pred_cls = np.argmax(pred_act.detach().to('cpu').numpy(), axis = 1)\n",
        "                y_true.extend(act_label.detach().to('cpu').numpy())\n",
        "                y_pred.extend(pred_cls) \n",
        "                pred_subject = np.argmax(pred_sub.detach().to('cpu').numpy(), axis = 1)\n",
        "                y_true_sub.extend(sub_label.detach().to('cpu').numpy())\n",
        "                y_pred_sub.extend(pred_subject) \n",
        "                \n",
        "            # Agg epoch results \n",
        "        dev_loss = dev_loss / len(dl_dev)  \n",
        "        dev_loss_sub = dev_loss_sub / len(dl_dev)         \n",
        "        loss_dev_arr.append(dev_loss)    \n",
        "        loss_dev_arr_sub.append(dev_loss_sub)    \n",
        "        dev_acc = accuracy_score(y_true, y_pred)          \n",
        "        acc_dev_arr.append(dev_acc)\n",
        "        dev_f1 = f1_score(y_true, y_pred,sample_weight=None, average = 'weighted', zero_division = 'warn')\n",
        "        f1_dev_arr.append(dev_f1)\n",
        "        dev_f1_sub = f1_score(y_true_sub, y_pred_sub,sample_weight=None, average = 'weighted', zero_division = 'warn')\n",
        "        f1_dev_arr_sub.append(dev_f1_sub)\n",
        "            \n",
        "        # Early Stop and best model save\n",
        "        # if not best_dev_loss or dev_loss < best_dev_loss:\n",
        "        #if not best_dev_acc or dev_acc > best_dev_acc:\n",
        "        if not best_dev_f1 or dev_f1 > best_dev_f1:\n",
        "            best_train_loss = train_loss\n",
        "            best_dev_loss = dev_loss\n",
        "            best_train_acc = train_acc\n",
        "            best_dev_acc = dev_acc\n",
        "            best_train_f1 = train_f1\n",
        "            best_dev_f1 = dev_f1\n",
        "            epochs_without_improvement = 0\n",
        "            #print (\"Achieved lower dev loss, save model at epoch number {} \".format(epoch + 1) )\n",
        "            best_state_dict = copy.deepcopy(model.state_dict())\n",
        "        else:\n",
        "            epochs_without_improvement += 1\n",
        "\n",
        "        if epochs_without_improvement == early_stopping:\n",
        "            if verbose == True:\n",
        "                print (\"\\nEarly stoping after {} epochs. Dev loss did not imporve for more than {} epcochs\".format(epoch,early_stopping))\n",
        "            break\n",
        "            \n",
        "        #if (verbose) & (epoch % 5 == 1):   #  report every 10% of the number of epoch\n",
        "        if  epoch % 5 == 1:   #  report every 10% of the number of epoch\n",
        "        #if True:\n",
        "            print(\"\\nEpoch {epoch_id}\".format(epoch_id=epoch))\n",
        "            print(\"Train loss  : {:.3f}\".format(train_loss),end=',   ')\n",
        "            print(\"Dev loss    : {:.3f}\".format(dev_loss))\n",
        "            print(\"Train acc  : {:.3f}\".format(train_acc),end=',   ')\n",
        "            print(\"Dev acc    : {:.3f}\".format(dev_acc))\n",
        "            print(\"Train f1    : {:.3f}\".format(train_f1),end=',   ')\n",
        "            print(\"Dev f1    : {:.3f}\".format(dev_f1))\n",
        "            clear_cache()\n",
        "            \n",
        "                  \n",
        "    # Finish  training \n",
        "    model.load_state_dict(best_state_dict)\n",
        "    if (verbose):\n",
        "        print('\\nFinished Training:')\n",
        "        print('Train loss ={:.3f}, Dev loss ={:.3f}'.format(best_train_loss ,best_dev_loss ))\n",
        "        print('Train acc ={:.3f}, Dev acc ={:.3f}'.format(best_train_acc ,best_dev_acc ))\n",
        "        print('Train F1 score ={:.3f}, Dev F1 score={:.3f}'.format(best_train_f1 ,best_dev_f1 ))\n",
        "       \n",
        "        \n",
        "    return loss_train_arr[1::] , loss_dev_arr[1::] , acc_train_arr[1::] , acc_dev_arr[1::] , f1_train_arr[1::] , f1_dev_arr[1::], loss_train_arr_sub[1::] , loss_dev_arr_sub[1::] , f1_train_arr_sub[1::] , f1_dev_arr_sub[1::]"
      ]
    },
    {
      "cell_type": "code",
      "execution_count": 31,
      "metadata": {
        "id": "MXtVu4W13qTk"
      },
      "outputs": [],
      "source": [
        "def loss_graph(loss_train_arr , loss_dev_arr , f1_train_arr , f1_dev_arr , title1, title2, test_name = 'Dev'):\n",
        "  #show learning progress\n",
        "    fig, ax = plt.subplots(1, 2,figsize=(14, 5))\n",
        "\n",
        "    ax[0].set_title(title1)\n",
        "    ax[0].set_xlabel('epoch')\n",
        "    ax[0].set_ylabel('loss')\n",
        "    ax[0].plot(loss_train_arr,label=\"Train loss\")\n",
        "    ax[0].plot(loss_dev_arr,  label=\"{} loss\".format(test_name))\n",
        "    ax[0].legend()\n",
        "        \n",
        "    ax[1].set_title(title2)\n",
        "    ax[1].set_xlabel('epoch')\n",
        "    ax[1].set_ylabel('F1 score')\n",
        "    ax[1].plot(f1_train_arr,  label=\"Train F1\")\n",
        "    ax[1].plot(f1_dev_arr,  label=\"{} F1\".format(test_name))\n",
        "    ax[1].legend()    "
      ]
    },
    {
      "cell_type": "markdown",
      "metadata": {
        "id": "gpP0mgBT3qTl"
      },
      "source": [
        "## EVALUATION\n",
        "\n",
        "Evaluation is done on the test set, reporting precision, recall and f1-score for all classes. The weighted f1-score is the main reported measure.\\\n",
        "The confusion measure is also presented."
      ]
    },
    {
      "cell_type": "code",
      "execution_count": 32,
      "metadata": {
        "id": "PnrFB1xbuiH9"
      },
      "outputs": [],
      "source": [
        "activity_names = ['lying', 'sitting', 'standing', 'walking', 'running', 'cycling', 'Nordic_walking', \\\n",
        "                  'ascending_stairs', 'descending_stairs', 'vacuum_cleaning', 'ironing', 'rope_jumping']"
      ]
    },
    {
      "cell_type": "code",
      "execution_count": 33,
      "metadata": {
        "id": "v12kXoYr3qTl"
      },
      "outputs": [],
      "source": [
        "def evaluate(model, dl , caption, plot_cm , print_scores,  verbose=False , cm_perventage = True):\n",
        "    \n",
        "    if print_scores == True:\n",
        "        print(caption,\"\\n\")\n",
        "        \n",
        "    y_true_act = []\n",
        "    y_pred_act = []\n",
        "    y_true_sub = []\n",
        "    y_pred_sub = []\n",
        "    \n",
        "    model.eval()\n",
        "    with torch.no_grad():\n",
        "        for batch in tqdm(dl, disable=(not verbose)):\n",
        "            data, label = batch      \n",
        "            # Send tensors to GPU\n",
        "            data = data.to(device)\n",
        "            act_label = label[0]\n",
        "            sub_label = label[1]\n",
        "              \n",
        "            pred_sub, pred_act = model(data, sub_label, train = False)\n",
        "               \n",
        "            # Agg results\n",
        "            pred_cls = np.argmax(pred_act.detach().to('cpu').numpy() , axis = 1)\n",
        "            y_true_act.extend(act_label.detach().to('cpu').numpy().tolist())\n",
        "            y_pred_act.extend(pred_cls) \n",
        "            pred_sub = np.argmax(pred_sub.detach().to('cpu').numpy() , axis = 1)\n",
        "            y_true_sub.extend(sub_label.detach().to('cpu').numpy().tolist())\n",
        "            y_pred_sub.extend(pred_sub) \n",
        "    \n",
        "    y_true_arr_act = np.array(y_true_act)\n",
        "    y_pred_arr_act = np.array(y_pred_act)\n",
        "    y_true_arr_sub = np.array(y_true_sub)\n",
        "    y_pred_arr_sub = np.array(y_pred_sub)\n",
        "    \n",
        "    classes = np.union1d(y_true_arr_act, y_pred_arr_act)\n",
        "    # tick_names = activity_names\n",
        "    tick_names = [activity_names[c] for c in classes]\n",
        "    ## Confusion Matrix - Multi class ## \n",
        "    if plot_cm == True:\n",
        "        cnf_matrix = metrics.confusion_matrix(y_true_arr_act, y_pred_arr_act)\n",
        "        if cm_perventage == True:\n",
        "            cnf_matrix = cnf_matrix / cnf_matrix.sum(axis=1).reshape(-1,1)\n",
        "            cnf_matrix = np.around(cnf_matrix, 2)\n",
        "        fig, ax = plt.subplots(figsize=(16, 8))\n",
        "        tick_marks = np.arange(len(tick_names))\n",
        "        # print(cnf_matrix.shape, len(tick_names))\n",
        "\n",
        "        if cm_perventage == True:\n",
        "            sns.heatmap(pd.DataFrame(data=cnf_matrix, index=tick_names, columns=tick_names), \\\n",
        "                        annot=True, cmap=\"Blues\",fmt='g' , vmin = 0 , vmax = 1)\n",
        "        else:\n",
        "            sns.heatmap(pd.DataFrame(data=cnf_matrix, index=tick_names, columns=tick_names), annot=True, cmap=\"YlGnBu\",fmt='g')\n",
        "        ax.xaxis.set_label_position(\"top\")\n",
        "        plt.tight_layout()\n",
        "        plt.title('Confusion Matrix', y=1.1)\n",
        "        plt.ylabel('Actual label')\n",
        "        plt.xlabel('Predicted label')\n",
        "        \n",
        "    # Scores #\n",
        "    f1_s = f1_score(y_true_arr_act, y_pred_arr_act, sample_weight=None, average  = 'weighted', zero_division='warn')\n",
        "    m1 = metrics.classification_report(y_true_arr_act, y_pred_arr_act, target_names = tick_names, output_dict=True, digits=3, zero_division = 0)\n",
        "    \n",
        "    f1_all = m1['weighted avg']['f1-score']\n",
        "        \n",
        "    if print_scores == True:\n",
        "        print(metrics.classification_report(y_true_arr_act, y_pred_arr_act, target_names = tick_names,digits=3, zero_division = 0  ))\n",
        "        print(f1_s)\n",
        "\n",
        "  ######################################\n",
        "    subjs = np.union1d(y_true_arr_sub, y_pred_arr_sub)\n",
        "    sub_id = np.arange(8).astype('str')\n",
        "    tick_names = [sub_id[s] for s in subjs]\n",
        "    ## Confusion Matrix - Multi class ## \n",
        "    if plot_cm == True:\n",
        "        cnf_matrix = metrics.confusion_matrix(y_true_arr_sub, y_pred_arr_sub)\n",
        "        if cm_perventage == True:\n",
        "            cnf_matrix = cnf_matrix / cnf_matrix.sum(axis=1).reshape(-1,1)\n",
        "            cnf_matrix = np.around(cnf_matrix, 2)\n",
        "        fig, ax = plt.subplots(figsize=(16, 8))\n",
        "        tick_marks = np.arange(len(tick_names))\n",
        "        # print(cnf_matrix.shape, len(tick_names))\n",
        "\n",
        "        if cm_perventage == True:\n",
        "            sns.heatmap(pd.DataFrame(data=cnf_matrix, index=tick_names, columns=tick_names), \\\n",
        "                        annot=True, cmap=\"Blues\",fmt='g' , vmin = 0 , vmax = 1)\n",
        "        else:\n",
        "            sns.heatmap(pd.DataFrame(data=cnf_matrix, index=tick_names, columns=tick_names), annot=True, cmap=\"YlGnBu\",fmt='g')\n",
        "        ax.xaxis.set_label_position(\"top\")\n",
        "        plt.tight_layout()\n",
        "        plt.title('Confusion Matrix', y=1.1)\n",
        "        plt.ylabel('Actual label')\n",
        "        plt.xlabel('Predicted label')\n",
        "        \n",
        "    # # Scores #\n",
        "    # f1_sub = f1_score(y_true_arr_sub, y_pred_arr_sub, sample_weight=None, average  = 'weighted', zero_division='warn')\n",
        "    # # m1 = metrics.classification_report(y_true_arr_sub, y_pred_arr_sub, target_names = tick_names, output_dict=True, digits=3, zero_division = 0)\n",
        "    \n",
        "    # # f1_all = m1['weighted avg']['f1-score']\n",
        "        \n",
        "    # if print_scores == True:\n",
        "    #     print(metrics.classification_report(y_true_arr_sub, y_pred_arr_sub, target_names = tick_names,digits=3, zero_division = 0  ))\n",
        "    #     print(f1_sub)\n",
        "    \n",
        "    return f1_s"
      ]
    },
    {
      "cell_type": "code",
      "execution_count": null,
      "metadata": {
        "id": "vI5c3aVeqIkP"
      },
      "outputs": [],
      "source": [
        "# base_model_results = np.array([0.9, 0.9, 0.888, 0.888, 0.864, 0.892, 0.87, 0.92, 0.877, 0.852, 0.917, 0.878, 0.922, 0.891, 0.856, 0.92, 0.928, 0.9252, 0.855, 0.915, 0.885, 0.857, 0.925, 0.892, 0.829, 0.924, 0.902, 0.837, 0.932])\n",
        "# alpha_02_results = np.array([0.9, 0.875])\n",
        "# # alpha_05_results = np.array([0.864]) # with stop on f1-score\n",
        "# print('Mean f1-score for base model is ', np.mean(alpha_02_results))\n",
        "# print('f1-score std for base model is ', np.std(alpha_02_results))\n",
        "# alpha 0.3 0.878"
      ]
    },
    {
      "cell_type": "code",
      "execution_count": 34,
      "metadata": {
        "colab": {
          "base_uri": "https://localhost:8080/"
        },
        "id": "mHQdkNHJPplK",
        "outputId": "fa1c7e16-2121-4c25-bd9f-45cc67026727"
      },
      "outputs": [
        {
          "name": "stderr",
          "output_type": "stream",
          "text": [
            "/usr/local/lib/python3.7/dist-packages/ipykernel_launcher.py:1: UserWarning: To copy construct from a tensor, it is recommended to use sourceTensor.clone().detach() or sourceTensor.clone().detach().requires_grad_(True), rather than torch.tensor(sourceTensor).\n",
            "  \"\"\"Entry point for launching an IPython kernel.\n"
          ]
        }
      ],
      "source": [
        "X = torch.tensor(batch[0],dtype=torch.float32).to(device)\n",
        "model = Subject_aware_attn(num_features = X.shape[2] , input_size = X.shape[3] , num_conv_layer = 4  \\\n",
        "                  , hidden_size = 50, AG = True, AF = True, num_classes = 12, num_subjects = 9).to(device)\n",
        "\n",
        "lr = 1e-4\n",
        "optimizer  = Adam(model.parameters(), lr=lr , weight_decay = 1e-4) "
      ]
    },
    {
      "cell_type": "markdown",
      "metadata": {
        "id": "Qrs_M02g-DUH"
      },
      "source": [
        "Run for alpha = 0.4 (one of many runs for different alphas)"
      ]
    },
    {
      "cell_type": "code",
      "execution_count": 35,
      "metadata": {
        "colab": {
          "base_uri": "https://localhost:8080/",
          "height": 1000
        },
        "id": "7pAIh4GHftar",
        "outputId": "8bfdd228-97ee-47e6-bdde-38f322fef084"
      },
      "outputs": [
        {
          "name": "stderr",
          "output_type": "stream",
          "text": [
            "100%|██████████| 62/62 [01:27<00:00,  1.42s/it]\n",
            "100%|██████████| 7/7 [00:03<00:00,  2.11it/s]\n"
          ]
        },
        {
          "name": "stdout",
          "output_type": "stream",
          "text": [
            "\n",
            "Epoch 1\n",
            "Train loss  : 2.292,   Dev loss    : 2.183\n",
            "Train acc  : 0.238,   Dev acc    : 0.405\n",
            "Train f1    : 0.192,   Dev f1    : 0.292\n"
          ]
        },
        {
          "name": "stderr",
          "output_type": "stream",
          "text": [
            "100%|██████████| 62/62 [01:26<00:00,  1.39s/it]\n",
            "100%|██████████| 7/7 [00:03<00:00,  2.12it/s]\n",
            "100%|██████████| 62/62 [01:21<00:00,  1.31s/it]\n",
            "100%|██████████| 7/7 [00:03<00:00,  2.11it/s]\n",
            "100%|██████████| 62/62 [01:22<00:00,  1.34s/it]\n",
            "100%|██████████| 7/7 [00:03<00:00,  2.09it/s]\n",
            "100%|██████████| 62/62 [01:20<00:00,  1.30s/it]\n",
            "100%|██████████| 7/7 [00:03<00:00,  2.16it/s]\n",
            "100%|██████████| 62/62 [01:20<00:00,  1.31s/it]\n",
            "100%|██████████| 7/7 [00:03<00:00,  2.16it/s]\n"
          ]
        },
        {
          "name": "stdout",
          "output_type": "stream",
          "text": [
            "\n",
            "Epoch 6\n",
            "Train loss  : 1.613,   Dev loss    : 1.550\n",
            "Train acc  : 0.576,   Dev acc    : 0.623\n",
            "Train f1    : 0.485,   Dev f1    : 0.541\n"
          ]
        },
        {
          "name": "stderr",
          "output_type": "stream",
          "text": [
            "100%|██████████| 62/62 [01:22<00:00,  1.33s/it]\n",
            "100%|██████████| 7/7 [00:03<00:00,  2.15it/s]\n",
            "100%|██████████| 62/62 [01:21<00:00,  1.31s/it]\n",
            "100%|██████████| 7/7 [00:03<00:00,  2.15it/s]\n",
            "100%|██████████| 62/62 [01:23<00:00,  1.35s/it]\n",
            "100%|██████████| 7/7 [00:03<00:00,  2.10it/s]\n",
            "100%|██████████| 62/62 [01:22<00:00,  1.34s/it]\n",
            "100%|██████████| 7/7 [00:03<00:00,  2.10it/s]\n",
            "100%|██████████| 62/62 [01:22<00:00,  1.33s/it]\n",
            "100%|██████████| 7/7 [00:03<00:00,  2.11it/s]\n"
          ]
        },
        {
          "name": "stdout",
          "output_type": "stream",
          "text": [
            "\n",
            "Epoch 11\n",
            "Train loss  : 1.381,   Dev loss    : 1.314\n",
            "Train acc  : 0.704,   Dev acc    : 0.795\n",
            "Train f1    : 0.671,   Dev f1    : 0.774\n"
          ]
        },
        {
          "name": "stderr",
          "output_type": "stream",
          "text": [
            "100%|██████████| 62/62 [01:23<00:00,  1.35s/it]\n",
            "100%|██████████| 7/7 [00:03<00:00,  2.12it/s]\n",
            "100%|██████████| 62/62 [01:22<00:00,  1.32s/it]\n",
            "100%|██████████| 7/7 [00:03<00:00,  2.10it/s]\n",
            "100%|██████████| 62/62 [01:24<00:00,  1.36s/it]\n",
            "100%|██████████| 7/7 [00:03<00:00,  2.07it/s]\n",
            "100%|██████████| 62/62 [01:22<00:00,  1.34s/it]\n",
            "100%|██████████| 7/7 [00:03<00:00,  2.11it/s]\n",
            "100%|██████████| 62/62 [01:22<00:00,  1.33s/it]\n",
            "100%|██████████| 7/7 [00:03<00:00,  2.07it/s]\n"
          ]
        },
        {
          "name": "stdout",
          "output_type": "stream",
          "text": [
            "\n",
            "Epoch 16\n",
            "Train loss  : 1.223,   Dev loss    : 1.177\n",
            "Train acc  : 0.799,   Dev acc    : 0.842\n",
            "Train f1    : 0.781,   Dev f1    : 0.824\n"
          ]
        },
        {
          "name": "stderr",
          "output_type": "stream",
          "text": [
            "100%|██████████| 62/62 [01:24<00:00,  1.37s/it]\n",
            "100%|██████████| 7/7 [00:03<00:00,  2.09it/s]\n",
            "100%|██████████| 62/62 [01:23<00:00,  1.34s/it]\n",
            "100%|██████████| 7/7 [00:03<00:00,  2.10it/s]\n",
            "100%|██████████| 62/62 [01:25<00:00,  1.38s/it]\n",
            "100%|██████████| 7/7 [00:03<00:00,  2.10it/s]\n",
            "100%|██████████| 62/62 [01:21<00:00,  1.32s/it]\n",
            "100%|██████████| 7/7 [00:03<00:00,  2.13it/s]\n",
            "100%|██████████| 62/62 [01:23<00:00,  1.35s/it]\n",
            "100%|██████████| 7/7 [00:03<00:00,  2.12it/s]\n"
          ]
        },
        {
          "name": "stdout",
          "output_type": "stream",
          "text": [
            "\n",
            "Epoch 21\n",
            "Train loss  : 1.116,   Dev loss    : 1.084\n",
            "Train acc  : 0.851,   Dev acc    : 0.888\n",
            "Train f1    : 0.847,   Dev f1    : 0.888\n"
          ]
        },
        {
          "name": "stderr",
          "output_type": "stream",
          "text": [
            "100%|██████████| 62/62 [01:21<00:00,  1.32s/it]\n",
            "100%|██████████| 7/7 [00:03<00:00,  2.11it/s]\n",
            "100%|██████████| 62/62 [01:22<00:00,  1.32s/it]\n",
            "100%|██████████| 7/7 [00:03<00:00,  2.10it/s]\n",
            "100%|██████████| 62/62 [01:23<00:00,  1.35s/it]\n",
            "100%|██████████| 7/7 [00:03<00:00,  2.10it/s]\n",
            "100%|██████████| 62/62 [01:22<00:00,  1.33s/it]\n",
            "100%|██████████| 7/7 [00:03<00:00,  2.08it/s]\n",
            "100%|██████████| 62/62 [01:23<00:00,  1.35s/it]\n",
            "100%|██████████| 7/7 [00:03<00:00,  2.08it/s]\n"
          ]
        },
        {
          "name": "stdout",
          "output_type": "stream",
          "text": [
            "\n",
            "Epoch 26\n",
            "Train loss  : 1.037,   Dev loss    : 1.012\n",
            "Train acc  : 0.901,   Dev acc    : 0.914\n",
            "Train f1    : 0.901,   Dev f1    : 0.914\n"
          ]
        },
        {
          "name": "stderr",
          "output_type": "stream",
          "text": [
            "100%|██████████| 62/62 [01:22<00:00,  1.34s/it]\n",
            "100%|██████████| 7/7 [00:03<00:00,  2.08it/s]\n",
            "100%|██████████| 62/62 [01:22<00:00,  1.33s/it]\n",
            "100%|██████████| 7/7 [00:03<00:00,  2.12it/s]\n",
            "100%|██████████| 62/62 [01:23<00:00,  1.35s/it]\n",
            "100%|██████████| 7/7 [00:03<00:00,  2.12it/s]\n",
            "100%|██████████| 62/62 [01:22<00:00,  1.33s/it]\n",
            "100%|██████████| 7/7 [00:03<00:00,  2.08it/s]\n",
            "100%|██████████| 62/62 [01:24<00:00,  1.37s/it]\n",
            "100%|██████████| 7/7 [00:03<00:00,  2.11it/s]\n"
          ]
        },
        {
          "name": "stdout",
          "output_type": "stream",
          "text": [
            "\n",
            "Epoch 31\n",
            "Train loss  : 0.975,   Dev loss    : 0.978\n",
            "Train acc  : 0.915,   Dev acc    : 0.912\n",
            "Train f1    : 0.915,   Dev f1    : 0.912\n"
          ]
        },
        {
          "name": "stderr",
          "output_type": "stream",
          "text": [
            "100%|██████████| 62/62 [01:22<00:00,  1.33s/it]\n",
            "100%|██████████| 7/7 [00:03<00:00,  2.10it/s]\n",
            "100%|██████████| 62/62 [01:21<00:00,  1.32s/it]\n",
            "100%|██████████| 7/7 [00:03<00:00,  2.16it/s]\n",
            "100%|██████████| 62/62 [01:22<00:00,  1.33s/it]\n",
            "100%|██████████| 7/7 [00:03<00:00,  2.14it/s]\n",
            "100%|██████████| 62/62 [01:20<00:00,  1.30s/it]\n",
            "100%|██████████| 7/7 [00:03<00:00,  2.13it/s]\n",
            "100%|██████████| 62/62 [01:22<00:00,  1.33s/it]\n",
            "100%|██████████| 7/7 [00:03<00:00,  2.15it/s]\n"
          ]
        },
        {
          "name": "stdout",
          "output_type": "stream",
          "text": [
            "\n",
            "Epoch 36\n",
            "Train loss  : 0.927,   Dev loss    : 0.939\n",
            "Train acc  : 0.928,   Dev acc    : 0.914\n",
            "Train f1    : 0.928,   Dev f1    : 0.915\n"
          ]
        },
        {
          "name": "stderr",
          "output_type": "stream",
          "text": [
            "100%|██████████| 62/62 [01:21<00:00,  1.32s/it]\n",
            "100%|██████████| 7/7 [00:03<00:00,  2.11it/s]\n",
            "100%|██████████| 62/62 [01:21<00:00,  1.31s/it]\n",
            "100%|██████████| 7/7 [00:03<00:00,  2.15it/s]\n",
            "100%|██████████| 62/62 [01:23<00:00,  1.34s/it]\n",
            "100%|██████████| 7/7 [00:03<00:00,  2.13it/s]\n",
            "100%|██████████| 62/62 [01:21<00:00,  1.31s/it]\n",
            "100%|██████████| 7/7 [00:03<00:00,  2.12it/s]\n",
            "100%|██████████| 62/62 [01:23<00:00,  1.34s/it]\n",
            "100%|██████████| 7/7 [00:03<00:00,  2.11it/s]\n"
          ]
        },
        {
          "name": "stdout",
          "output_type": "stream",
          "text": [
            "\n",
            "Epoch 41\n",
            "Train loss  : 0.886,   Dev loss    : 0.903\n",
            "Train acc  : 0.938,   Dev acc    : 0.923\n",
            "Train f1    : 0.938,   Dev f1    : 0.924\n"
          ]
        },
        {
          "name": "stderr",
          "output_type": "stream",
          "text": [
            "100%|██████████| 62/62 [01:21<00:00,  1.31s/it]\n",
            "100%|██████████| 7/7 [00:03<00:00,  2.10it/s]\n",
            "100%|██████████| 62/62 [01:21<00:00,  1.31s/it]\n",
            "100%|██████████| 7/7 [00:04<00:00,  1.75it/s]\n",
            "100%|██████████| 62/62 [01:23<00:00,  1.34s/it]\n",
            "100%|██████████| 7/7 [00:03<00:00,  2.12it/s]\n",
            "100%|██████████| 62/62 [01:21<00:00,  1.32s/it]\n",
            "100%|██████████| 7/7 [00:03<00:00,  2.12it/s]\n",
            "100%|██████████| 62/62 [01:23<00:00,  1.35s/it]\n",
            "100%|██████████| 7/7 [00:03<00:00,  2.15it/s]\n"
          ]
        },
        {
          "name": "stdout",
          "output_type": "stream",
          "text": [
            "\n",
            "Epoch 46\n",
            "Train loss  : 0.849,   Dev loss    : 0.902\n",
            "Train acc  : 0.943,   Dev acc    : 0.921\n",
            "Train f1    : 0.944,   Dev f1    : 0.921\n"
          ]
        },
        {
          "name": "stderr",
          "output_type": "stream",
          "text": [
            "100%|██████████| 62/62 [01:21<00:00,  1.31s/it]\n",
            "100%|██████████| 7/7 [00:03<00:00,  2.14it/s]\n",
            "100%|██████████| 62/62 [01:22<00:00,  1.34s/it]\n",
            "100%|██████████| 7/7 [00:03<00:00,  2.15it/s]\n",
            "100%|██████████| 62/62 [01:20<00:00,  1.30s/it]\n",
            "100%|██████████| 7/7 [00:03<00:00,  2.15it/s]\n",
            "100%|██████████| 62/62 [01:20<00:00,  1.30s/it]\n",
            "100%|██████████| 7/7 [00:03<00:00,  2.14it/s]\n",
            "100%|██████████| 62/62 [01:22<00:00,  1.34s/it]\n",
            "100%|██████████| 7/7 [00:03<00:00,  2.11it/s]\n"
          ]
        },
        {
          "name": "stdout",
          "output_type": "stream",
          "text": [
            "\n",
            "Epoch 51\n",
            "Train loss  : 0.817,   Dev loss    : 0.849\n",
            "Train acc  : 0.944,   Dev acc    : 0.935\n",
            "Train f1    : 0.944,   Dev f1    : 0.935\n"
          ]
        },
        {
          "name": "stderr",
          "output_type": "stream",
          "text": [
            "100%|██████████| 62/62 [01:22<00:00,  1.33s/it]\n",
            "100%|██████████| 7/7 [00:03<00:00,  2.12it/s]\n",
            "100%|██████████| 62/62 [01:23<00:00,  1.35s/it]\n",
            "100%|██████████| 7/7 [00:03<00:00,  2.09it/s]\n",
            "100%|██████████| 62/62 [01:21<00:00,  1.31s/it]\n",
            "100%|██████████| 7/7 [00:03<00:00,  2.13it/s]\n",
            "100%|██████████| 62/62 [01:21<00:00,  1.31s/it]\n",
            "100%|██████████| 7/7 [00:03<00:00,  2.15it/s]\n",
            "100%|██████████| 62/62 [01:22<00:00,  1.34s/it]\n",
            "100%|██████████| 7/7 [00:03<00:00,  2.12it/s]\n"
          ]
        },
        {
          "name": "stdout",
          "output_type": "stream",
          "text": [
            "\n",
            "Epoch 56\n",
            "Train loss  : 0.781,   Dev loss    : 0.818\n",
            "Train acc  : 0.952,   Dev acc    : 0.935\n",
            "Train f1    : 0.953,   Dev f1    : 0.935\n"
          ]
        },
        {
          "name": "stderr",
          "output_type": "stream",
          "text": [
            "100%|██████████| 62/62 [01:21<00:00,  1.31s/it]\n",
            "100%|██████████| 7/7 [00:03<00:00,  2.12it/s]\n",
            "100%|██████████| 62/62 [01:23<00:00,  1.34s/it]\n",
            "100%|██████████| 7/7 [00:03<00:00,  2.14it/s]\n",
            "100%|██████████| 62/62 [01:21<00:00,  1.31s/it]\n",
            "100%|██████████| 7/7 [00:03<00:00,  2.13it/s]\n"
          ]
        },
        {
          "name": "stdout",
          "output_type": "stream",
          "text": [
            "\n",
            "Early stoping after 59 epochs. Dev loss did not imporve for more than 10 epcochs\n",
            "\n",
            "Finished Training:\n",
            "Train loss =0.828, Dev loss =0.850\n",
            "Train acc =0.943, Dev acc =0.944\n",
            "Train F1 score =0.943, Dev F1 score=0.945\n",
            "Classifier results \n",
            "\n",
            "                   precision    recall  f1-score   support\n",
            "\n",
            "            lying      0.983     0.934     0.958        61\n",
            "          sitting      0.785     0.850     0.816        60\n",
            "         standing      0.680     0.531     0.596        64\n",
            "          walking      0.940     0.926     0.933        68\n",
            "          running      1.000     0.966     0.983        59\n",
            "          cycling      0.926     0.926     0.926        54\n",
            "   Nordic_walking      0.986     1.000     0.993        70\n",
            " ascending_stairs      0.609     0.848     0.709        33\n",
            "descending_stairs      0.933     0.519     0.667        27\n",
            "  vacuum_cleaning      0.710     0.891     0.790        55\n",
            "          ironing      0.806     0.798     0.802        99\n",
            "\n",
            "         accuracy                          0.849       650\n",
            "        macro avg      0.851     0.835     0.834       650\n",
            "     weighted avg      0.856     0.849     0.847       650\n",
            "\n",
            "0.8473639184619319\n"
          ]
        },
        {
          "name": "stderr",
          "output_type": "stream",
          "text": [
            "/usr/local/lib/python3.7/dist-packages/ipykernel_launcher.py:77: RuntimeWarning: invalid value encountered in true_divide\n"
          ]
        },
        {
          "data": {
            "image/png": "[encoded data removed]",
            "text/plain": [
              "<Figure size 1008x360 with 2 Axes>"
            ]
          },
          "metadata": {
            "needs_background": "light"
          },
          "output_type": "display_data"
        },
        {
          "data": {
            "image/png": "[encoded data removed]",
            "text/plain": [
              "<Figure size 1008x360 with 2 Axes>"
            ]
          },
          "metadata": {
            "needs_background": "light"
          },
          "output_type": "display_data"
        },
        {
          "data": {
            "image/png": "[encoded data removed]",
            "text/plain": [
              "<Figure size 1152x576 with 2 Axes>"
            ]
          },
          "metadata": {
            "needs_background": "light"
          },
          "output_type": "display_data"
        },
        {
          "data": {
            "image/png": "[encoded data removed]",
            "text/plain": [
              "<Figure size 1152x576 with 2 Axes>"
            ]
          },
          "metadata": {
            "needs_background": "light"
          },
          "output_type": "display_data"
        }
      ],
      "source": [
        "for i in range(1):\n",
        "  model = Subject_aware_attn(num_features = X.shape[2] , input_size = X.shape[3] , num_conv_layer = 4  \\\n",
        "                    , hidden_size = 50, AG = True, AF = True, num_classes = 12, num_subjects = 9).to(device)\n",
        "\n",
        "  lr = 1e-4\n",
        "  optimizer  = Adam(model.parameters(), lr=lr , weight_decay = 1e-4) \n",
        "\n",
        "  # Run training\n",
        "  # loss_train_arr, loss_dev_arr, acc_train_arr, acc_dev_arr, f1_train_arr, f1_dev_arr = \\\n",
        "  #     train_loop(model = model, optimizer = optimizer, n_epochs=100, dl_train  = dl_train, dl_dev = dl_dev, \\\n",
        "  #              device = device , early_stopping = 10, verbose=True, alpha = 0.2)\n",
        "\n",
        "  loss_train_arr, loss_dev_arr, acc_train_arr, acc_dev_arr, f1_train_arr, f1_dev_arr, loss_train_arr_sub, loss_dev_arr_sub, f1_train_arr_sub, f1_dev_arr_sub = \\\n",
        "    train_loop(model = model, optimizer = optimizer, n_epochs=100, dl_train  = dl_train, dl_dev = dl_dev, \\\n",
        "               device = device , early_stopping = 10, verbose=True, alpha = 0.4)\n",
        "      \n",
        "  # loss_graph(loss_train_arr , loss_dev_arr , f1_train_arr , f1_dev_arr)\n",
        "\n",
        "  loss_graph(loss_train_arr , loss_dev_arr , f1_train_arr , f1_dev_arr, 'Full loss vs Epoc', 'Activity F1-score vs Epoc')\n",
        "  loss_graph(loss_train_arr_sub , loss_dev_arr_sub , f1_train_arr_sub , f1_dev_arr_sub, 'Subject classification loss vs Epoc', 'Subject F1-score vs Epoc')\n",
        "\n",
        "  f1_s_model_cls  = evaluate(model = model, dl = dl_test, caption = \"Classifier results\" ,\\\n",
        "                                               plot_cm = True, print_scores = True)"
      ]
    },
    {
      "cell_type": "markdown",
      "metadata": {
        "id": "9ZJNjiyZ-MOJ"
      },
      "source": [
        "Since we see that subject classification doesn't converge fast enough, we ran for 220 epochs without stopping:"
      ]
    },
    {
      "cell_type": "code",
      "execution_count": null,
      "metadata": {
        "colab": {
          "base_uri": "https://localhost:8080/",
          "height": 1000
        },
        "id": "PYPbm1kdZcEE",
        "outputId": "a83a4bae-dfda-4692-bccb-01588f575a9b"
      },
      "outputs": [
        {
          "name": "stderr",
          "output_type": "stream",
          "text": [
            "100%|██████████| 62/62 [01:20<00:00,  1.30s/it]\n",
            "100%|██████████| 7/7 [00:03<00:00,  2.13it/s]\n"
          ]
        },
        {
          "name": "stdout",
          "output_type": "stream",
          "text": [
            "\n",
            "Epoch 1\n",
            "Train loss  : 2.317,   Dev loss    : 2.225\n",
            "Train acc  : 0.194,   Dev acc    : 0.395\n",
            "Train f1    : 0.165,   Dev f1    : 0.255\n"
          ]
        },
        {
          "name": "stderr",
          "output_type": "stream",
          "text": [
            "100%|██████████| 62/62 [01:17<00:00,  1.24s/it]\n",
            "100%|██████████| 7/7 [00:03<00:00,  2.14it/s]\n",
            "100%|██████████| 62/62 [01:17<00:00,  1.24s/it]\n",
            "100%|██████████| 7/7 [00:03<00:00,  2.11it/s]\n",
            "100%|██████████| 62/62 [01:16<00:00,  1.24s/it]\n",
            "100%|██████████| 7/7 [00:03<00:00,  2.13it/s]\n",
            "100%|██████████| 62/62 [01:17<00:00,  1.24s/it]\n",
            "100%|██████████| 7/7 [00:03<00:00,  2.09it/s]\n",
            "100%|██████████| 62/62 [01:17<00:00,  1.25s/it]\n",
            "100%|██████████| 7/7 [00:03<00:00,  2.11it/s]\n"
          ]
        },
        {
          "name": "stdout",
          "output_type": "stream",
          "text": [
            "\n",
            "Epoch 6\n",
            "Train loss  : 1.552,   Dev loss    : 1.492\n",
            "Train acc  : 0.676,   Dev acc    : 0.700\n",
            "Train f1    : 0.609,   Dev f1    : 0.628\n"
          ]
        },
        {
          "name": "stderr",
          "output_type": "stream",
          "text": [
            "100%|██████████| 62/62 [01:17<00:00,  1.25s/it]\n",
            "100%|██████████| 7/7 [00:03<00:00,  2.10it/s]\n",
            "100%|██████████| 62/62 [01:17<00:00,  1.25s/it]\n",
            "100%|██████████| 7/7 [00:03<00:00,  2.12it/s]\n",
            "100%|██████████| 62/62 [01:17<00:00,  1.24s/it]\n",
            "100%|██████████| 7/7 [00:03<00:00,  2.11it/s]\n",
            "100%|██████████| 62/62 [01:17<00:00,  1.24s/it]\n",
            "100%|██████████| 7/7 [00:03<00:00,  2.11it/s]\n",
            "100%|██████████| 62/62 [01:17<00:00,  1.24s/it]\n",
            "100%|██████████| 7/7 [00:03<00:00,  2.12it/s]\n"
          ]
        },
        {
          "name": "stdout",
          "output_type": "stream",
          "text": [
            "\n",
            "Epoch 11\n",
            "Train loss  : 1.296,   Dev loss    : 1.280\n",
            "Train acc  : 0.770,   Dev acc    : 0.742\n",
            "Train f1    : 0.733,   Dev f1    : 0.687\n"
          ]
        },
        {
          "name": "stderr",
          "output_type": "stream",
          "text": [
            "100%|██████████| 62/62 [01:16<00:00,  1.23s/it]\n",
            "100%|██████████| 7/7 [00:03<00:00,  1.99it/s]\n",
            "100%|██████████| 62/62 [01:16<00:00,  1.23s/it]\n",
            "100%|██████████| 7/7 [00:03<00:00,  2.11it/s]\n",
            "100%|██████████| 62/62 [01:16<00:00,  1.24s/it]\n",
            "100%|██████████| 7/7 [00:03<00:00,  2.12it/s]\n",
            "100%|██████████| 62/62 [01:17<00:00,  1.24s/it]\n",
            "100%|██████████| 7/7 [00:03<00:00,  2.13it/s]\n",
            "100%|██████████| 62/62 [01:16<00:00,  1.24s/it]\n",
            "100%|██████████| 7/7 [00:03<00:00,  2.13it/s]\n"
          ]
        },
        {
          "name": "stdout",
          "output_type": "stream",
          "text": [
            "\n",
            "Epoch 16\n",
            "Train loss  : 1.182,   Dev loss    : 1.169\n",
            "Train acc  : 0.806,   Dev acc    : 0.795\n",
            "Train f1    : 0.772,   Dev f1    : 0.752\n"
          ]
        },
        {
          "name": "stderr",
          "output_type": "stream",
          "text": [
            "100%|██████████| 62/62 [01:16<00:00,  1.24s/it]\n",
            "100%|██████████| 7/7 [00:03<00:00,  2.13it/s]\n",
            "100%|██████████| 62/62 [01:17<00:00,  1.24s/it]\n",
            "100%|██████████| 7/7 [00:03<00:00,  2.11it/s]\n",
            "100%|██████████| 62/62 [01:17<00:00,  1.24s/it]\n",
            "100%|██████████| 7/7 [00:03<00:00,  2.13it/s]\n",
            "100%|██████████| 62/62 [01:16<00:00,  1.24s/it]\n",
            "100%|██████████| 7/7 [00:03<00:00,  2.12it/s]\n",
            "100%|██████████| 62/62 [01:17<00:00,  1.24s/it]\n",
            "100%|██████████| 7/7 [00:03<00:00,  2.12it/s]\n"
          ]
        },
        {
          "name": "stdout",
          "output_type": "stream",
          "text": [
            "\n",
            "Epoch 21\n",
            "Train loss  : 1.119,   Dev loss    : 1.137\n",
            "Train acc  : 0.822,   Dev acc    : 0.779\n",
            "Train f1    : 0.792,   Dev f1    : 0.737\n"
          ]
        },
        {
          "name": "stderr",
          "output_type": "stream",
          "text": [
            "100%|██████████| 62/62 [01:16<00:00,  1.24s/it]\n",
            "100%|██████████| 7/7 [00:03<00:00,  2.14it/s]\n",
            "100%|██████████| 62/62 [01:16<00:00,  1.23s/it]\n",
            "100%|██████████| 7/7 [00:03<00:00,  1.94it/s]\n",
            "100%|██████████| 62/62 [01:16<00:00,  1.24s/it]\n",
            "100%|██████████| 7/7 [00:03<00:00,  2.11it/s]\n",
            "100%|██████████| 62/62 [01:17<00:00,  1.24s/it]\n",
            "100%|██████████| 7/7 [00:03<00:00,  2.11it/s]\n",
            "100%|██████████| 62/62 [01:18<00:00,  1.26s/it]\n",
            "100%|██████████| 7/7 [00:03<00:00,  2.00it/s]\n"
          ]
        },
        {
          "name": "stdout",
          "output_type": "stream",
          "text": [
            "\n",
            "Epoch 26\n",
            "Train loss  : 1.068,   Dev loss    : 1.088\n",
            "Train acc  : 0.860,   Dev acc    : 0.865\n",
            "Train f1    : 0.854,   Dev f1    : 0.864\n"
          ]
        },
        {
          "name": "stderr",
          "output_type": "stream",
          "text": [
            "100%|██████████| 62/62 [01:17<00:00,  1.26s/it]\n",
            "100%|██████████| 7/7 [00:03<00:00,  2.11it/s]\n",
            "100%|██████████| 62/62 [01:17<00:00,  1.25s/it]\n",
            "100%|██████████| 7/7 [00:03<00:00,  2.10it/s]\n",
            "100%|██████████| 62/62 [01:18<00:00,  1.27s/it]\n",
            "100%|██████████| 7/7 [00:03<00:00,  2.08it/s]\n",
            "100%|██████████| 62/62 [01:17<00:00,  1.24s/it]\n",
            "100%|██████████| 7/7 [00:03<00:00,  2.13it/s]\n",
            "100%|██████████| 62/62 [01:17<00:00,  1.24s/it]\n",
            "100%|██████████| 7/7 [00:03<00:00,  2.11it/s]\n"
          ]
        },
        {
          "name": "stdout",
          "output_type": "stream",
          "text": [
            "\n",
            "Epoch 31\n",
            "Train loss  : 1.029,   Dev loss    : 1.062\n",
            "Train acc  : 0.874,   Dev acc    : 0.870\n",
            "Train f1    : 0.872,   Dev f1    : 0.870\n"
          ]
        },
        {
          "name": "stderr",
          "output_type": "stream",
          "text": [
            "100%|██████████| 62/62 [01:16<00:00,  1.24s/it]\n",
            "100%|██████████| 7/7 [00:03<00:00,  2.11it/s]\n",
            "100%|██████████| 62/62 [01:17<00:00,  1.25s/it]\n",
            "100%|██████████| 7/7 [00:03<00:00,  2.12it/s]\n",
            "100%|██████████| 62/62 [01:17<00:00,  1.25s/it]\n",
            "100%|██████████| 7/7 [00:03<00:00,  2.07it/s]\n",
            "100%|██████████| 62/62 [01:17<00:00,  1.25s/it]\n",
            "100%|██████████| 7/7 [00:03<00:00,  2.05it/s]\n",
            "100%|██████████| 62/62 [01:16<00:00,  1.24s/it]\n",
            "100%|██████████| 7/7 [00:03<00:00,  2.09it/s]\n"
          ]
        },
        {
          "name": "stdout",
          "output_type": "stream",
          "text": [
            "\n",
            "Epoch 36\n",
            "Train loss  : 0.974,   Dev loss    : 0.994\n",
            "Train acc  : 0.911,   Dev acc    : 0.923\n",
            "Train f1    : 0.910,   Dev f1    : 0.925\n"
          ]
        },
        {
          "name": "stderr",
          "output_type": "stream",
          "text": [
            "100%|██████████| 62/62 [01:16<00:00,  1.24s/it]\n",
            "100%|██████████| 7/7 [00:03<00:00,  2.14it/s]\n",
            "100%|██████████| 62/62 [01:17<00:00,  1.25s/it]\n",
            "100%|██████████| 7/7 [00:03<00:00,  2.11it/s]\n",
            "100%|██████████| 62/62 [01:17<00:00,  1.24s/it]\n",
            "100%|██████████| 7/7 [00:03<00:00,  2.10it/s]\n",
            "100%|██████████| 62/62 [01:17<00:00,  1.25s/it]\n",
            "100%|██████████| 7/7 [00:03<00:00,  2.10it/s]\n",
            "100%|██████████| 62/62 [01:16<00:00,  1.24s/it]\n",
            "100%|██████████| 7/7 [00:03<00:00,  2.12it/s]\n"
          ]
        },
        {
          "name": "stdout",
          "output_type": "stream",
          "text": [
            "\n",
            "Epoch 41\n",
            "Train loss  : 0.933,   Dev loss    : 0.932\n",
            "Train acc  : 0.930,   Dev acc    : 0.953\n",
            "Train f1    : 0.930,   Dev f1    : 0.954\n"
          ]
        },
        {
          "name": "stderr",
          "output_type": "stream",
          "text": [
            "100%|██████████| 62/62 [01:17<00:00,  1.24s/it]\n",
            "100%|██████████| 7/7 [00:03<00:00,  2.13it/s]\n",
            "100%|██████████| 62/62 [01:17<00:00,  1.25s/it]\n",
            "100%|██████████| 7/7 [00:03<00:00,  2.12it/s]\n",
            "100%|██████████| 62/62 [01:17<00:00,  1.25s/it]\n",
            "100%|██████████| 7/7 [00:03<00:00,  2.13it/s]\n",
            "100%|██████████| 62/62 [01:17<00:00,  1.24s/it]\n",
            "100%|██████████| 7/7 [00:03<00:00,  2.11it/s]\n",
            "100%|██████████| 62/62 [01:16<00:00,  1.24s/it]\n",
            "100%|██████████| 7/7 [00:03<00:00,  2.13it/s]\n"
          ]
        },
        {
          "name": "stdout",
          "output_type": "stream",
          "text": [
            "\n",
            "Epoch 46\n",
            "Train loss  : 0.898,   Dev loss    : 0.913\n",
            "Train acc  : 0.939,   Dev acc    : 0.935\n",
            "Train f1    : 0.939,   Dev f1    : 0.935\n"
          ]
        },
        {
          "name": "stderr",
          "output_type": "stream",
          "text": [
            "100%|██████████| 62/62 [01:17<00:00,  1.24s/it]\n",
            "100%|██████████| 7/7 [00:03<00:00,  2.12it/s]\n",
            "100%|██████████| 62/62 [01:17<00:00,  1.25s/it]\n",
            "100%|██████████| 7/7 [00:03<00:00,  2.13it/s]\n",
            "100%|██████████| 62/62 [01:17<00:00,  1.25s/it]\n",
            "100%|██████████| 7/7 [00:03<00:00,  2.12it/s]\n",
            "100%|██████████| 62/62 [01:16<00:00,  1.24s/it]\n",
            "100%|██████████| 7/7 [00:03<00:00,  1.90it/s]\n",
            "100%|██████████| 62/62 [01:16<00:00,  1.23s/it]\n",
            "100%|██████████| 7/7 [00:03<00:00,  2.00it/s]\n"
          ]
        },
        {
          "name": "stdout",
          "output_type": "stream",
          "text": [
            "\n",
            "Epoch 51\n",
            "Train loss  : 0.869,   Dev loss    : 0.901\n",
            "Train acc  : 0.948,   Dev acc    : 0.933\n",
            "Train f1    : 0.948,   Dev f1    : 0.933\n"
          ]
        },
        {
          "name": "stderr",
          "output_type": "stream",
          "text": [
            "100%|██████████| 62/62 [01:17<00:00,  1.24s/it]\n",
            "100%|██████████| 7/7 [00:03<00:00,  2.13it/s]\n",
            "100%|██████████| 62/62 [01:17<00:00,  1.25s/it]\n",
            "100%|██████████| 7/7 [00:03<00:00,  2.08it/s]\n",
            "100%|██████████| 62/62 [01:17<00:00,  1.25s/it]\n",
            "100%|██████████| 7/7 [00:03<00:00,  2.12it/s]\n",
            "100%|██████████| 62/62 [01:17<00:00,  1.25s/it]\n",
            "100%|██████████| 7/7 [00:03<00:00,  2.13it/s]\n",
            "100%|██████████| 62/62 [01:17<00:00,  1.25s/it]\n",
            "100%|██████████| 7/7 [00:03<00:00,  2.10it/s]\n"
          ]
        },
        {
          "name": "stdout",
          "output_type": "stream",
          "text": [
            "\n",
            "Epoch 56\n",
            "Train loss  : 0.847,   Dev loss    : 0.877\n",
            "Train acc  : 0.949,   Dev acc    : 0.953\n",
            "Train f1    : 0.949,   Dev f1    : 0.954\n"
          ]
        },
        {
          "name": "stderr",
          "output_type": "stream",
          "text": [
            "100%|██████████| 62/62 [01:17<00:00,  1.25s/it]\n",
            "100%|██████████| 7/7 [00:03<00:00,  2.14it/s]\n",
            "100%|██████████| 62/62 [01:17<00:00,  1.25s/it]\n",
            "100%|██████████| 7/7 [00:03<00:00,  2.14it/s]\n",
            "100%|██████████| 62/62 [01:17<00:00,  1.24s/it]\n",
            "100%|██████████| 7/7 [00:03<00:00,  2.09it/s]\n",
            "100%|██████████| 62/62 [01:17<00:00,  1.25s/it]\n",
            "100%|██████████| 7/7 [00:03<00:00,  2.13it/s]\n",
            "100%|██████████| 62/62 [01:17<00:00,  1.24s/it]\n",
            "100%|██████████| 7/7 [00:03<00:00,  2.12it/s]\n"
          ]
        },
        {
          "name": "stdout",
          "output_type": "stream",
          "text": [
            "\n",
            "Epoch 61\n",
            "Train loss  : 0.823,   Dev loss    : 0.850\n",
            "Train acc  : 0.954,   Dev acc    : 0.949\n",
            "Train f1    : 0.954,   Dev f1    : 0.949\n"
          ]
        },
        {
          "name": "stderr",
          "output_type": "stream",
          "text": [
            "100%|██████████| 62/62 [01:17<00:00,  1.24s/it]\n",
            "100%|██████████| 7/7 [00:03<00:00,  2.12it/s]\n",
            "100%|██████████| 62/62 [01:17<00:00,  1.25s/it]\n",
            "100%|██████████| 7/7 [00:03<00:00,  2.09it/s]\n",
            "100%|██████████| 62/62 [01:17<00:00,  1.25s/it]\n",
            "100%|██████████| 7/7 [00:03<00:00,  2.10it/s]\n",
            "100%|██████████| 62/62 [01:17<00:00,  1.25s/it]\n",
            "100%|██████████| 7/7 [00:03<00:00,  2.13it/s]\n",
            "100%|██████████| 62/62 [01:17<00:00,  1.25s/it]\n",
            "100%|██████████| 7/7 [00:03<00:00,  2.11it/s]\n"
          ]
        },
        {
          "name": "stdout",
          "output_type": "stream",
          "text": [
            "\n",
            "Epoch 66\n",
            "Train loss  : 0.797,   Dev loss    : 0.829\n",
            "Train acc  : 0.955,   Dev acc    : 0.951\n",
            "Train f1    : 0.955,   Dev f1    : 0.952\n"
          ]
        },
        {
          "name": "stderr",
          "output_type": "stream",
          "text": [
            "100%|██████████| 62/62 [01:17<00:00,  1.24s/it]\n",
            "100%|██████████| 7/7 [00:03<00:00,  2.10it/s]\n",
            "100%|██████████| 62/62 [01:17<00:00,  1.25s/it]\n",
            "100%|██████████| 7/7 [00:03<00:00,  2.10it/s]\n",
            "100%|██████████| 62/62 [01:17<00:00,  1.24s/it]\n",
            "100%|██████████| 7/7 [00:03<00:00,  2.12it/s]\n",
            "100%|██████████| 62/62 [01:17<00:00,  1.24s/it]\n",
            "100%|██████████| 7/7 [00:03<00:00,  2.09it/s]\n",
            "100%|██████████| 62/62 [01:17<00:00,  1.25s/it]\n",
            "100%|██████████| 7/7 [00:03<00:00,  2.11it/s]\n"
          ]
        },
        {
          "name": "stdout",
          "output_type": "stream",
          "text": [
            "\n",
            "Epoch 71\n",
            "Train loss  : 0.767,   Dev loss    : 0.819\n",
            "Train acc  : 0.962,   Dev acc    : 0.944\n",
            "Train f1    : 0.962,   Dev f1    : 0.945\n"
          ]
        },
        {
          "name": "stderr",
          "output_type": "stream",
          "text": [
            "100%|██████████| 62/62 [01:17<00:00,  1.25s/it]\n",
            "100%|██████████| 7/7 [00:03<00:00,  2.10it/s]\n",
            "100%|██████████| 62/62 [01:17<00:00,  1.25s/it]\n",
            "100%|██████████| 7/7 [00:03<00:00,  2.10it/s]\n",
            "100%|██████████| 62/62 [01:17<00:00,  1.25s/it]\n",
            "100%|██████████| 7/7 [00:03<00:00,  2.11it/s]\n",
            "100%|██████████| 62/62 [01:17<00:00,  1.24s/it]\n",
            "100%|██████████| 7/7 [00:03<00:00,  2.11it/s]\n",
            "100%|██████████| 62/62 [01:17<00:00,  1.25s/it]\n",
            "100%|██████████| 7/7 [00:03<00:00,  2.06it/s]\n"
          ]
        },
        {
          "name": "stdout",
          "output_type": "stream",
          "text": [
            "\n",
            "Epoch 76\n",
            "Train loss  : 0.745,   Dev loss    : 0.791\n",
            "Train acc  : 0.962,   Dev acc    : 0.956\n",
            "Train f1    : 0.963,   Dev f1    : 0.957\n"
          ]
        },
        {
          "name": "stderr",
          "output_type": "stream",
          "text": [
            "100%|██████████| 62/62 [01:17<00:00,  1.25s/it]\n",
            "100%|██████████| 7/7 [00:03<00:00,  2.12it/s]\n",
            "100%|██████████| 62/62 [01:17<00:00,  1.25s/it]\n",
            "100%|██████████| 7/7 [00:03<00:00,  2.12it/s]\n",
            "100%|██████████| 62/62 [01:17<00:00,  1.25s/it]\n",
            "100%|██████████| 7/7 [00:03<00:00,  2.12it/s]\n",
            "100%|██████████| 62/62 [01:17<00:00,  1.25s/it]\n",
            "100%|██████████| 7/7 [00:03<00:00,  2.11it/s]\n",
            "100%|██████████| 62/62 [01:17<00:00,  1.25s/it]\n",
            "100%|██████████| 7/7 [00:03<00:00,  2.13it/s]\n"
          ]
        },
        {
          "name": "stdout",
          "output_type": "stream",
          "text": [
            "\n",
            "Epoch 81\n",
            "Train loss  : 0.715,   Dev loss    : 0.777\n",
            "Train acc  : 0.965,   Dev acc    : 0.942\n",
            "Train f1    : 0.965,   Dev f1    : 0.943\n"
          ]
        },
        {
          "name": "stderr",
          "output_type": "stream",
          "text": [
            "100%|██████████| 62/62 [01:17<00:00,  1.25s/it]\n",
            "100%|██████████| 7/7 [00:03<00:00,  2.06it/s]\n",
            "100%|██████████| 62/62 [01:17<00:00,  1.25s/it]\n",
            "100%|██████████| 7/7 [00:03<00:00,  2.11it/s]\n",
            "100%|██████████| 62/62 [01:17<00:00,  1.25s/it]\n",
            "100%|██████████| 7/7 [00:03<00:00,  2.13it/s]\n",
            "100%|██████████| 62/62 [01:17<00:00,  1.25s/it]\n",
            "100%|██████████| 7/7 [00:03<00:00,  2.12it/s]\n",
            "100%|██████████| 62/62 [01:17<00:00,  1.25s/it]\n",
            "100%|██████████| 7/7 [00:03<00:00,  2.10it/s]\n"
          ]
        },
        {
          "name": "stdout",
          "output_type": "stream",
          "text": [
            "\n",
            "Epoch 86\n",
            "Train loss  : 0.685,   Dev loss    : 0.790\n",
            "Train acc  : 0.968,   Dev acc    : 0.944\n",
            "Train f1    : 0.968,   Dev f1    : 0.945\n"
          ]
        },
        {
          "name": "stderr",
          "output_type": "stream",
          "text": [
            "100%|██████████| 62/62 [01:17<00:00,  1.25s/it]\n",
            "100%|██████████| 7/7 [00:03<00:00,  2.15it/s]\n",
            "100%|██████████| 62/62 [01:17<00:00,  1.25s/it]\n",
            "100%|██████████| 7/7 [00:03<00:00,  2.12it/s]\n",
            "100%|██████████| 62/62 [01:17<00:00,  1.24s/it]\n",
            "100%|██████████| 7/7 [00:03<00:00,  2.13it/s]\n",
            "100%|██████████| 62/62 [01:17<00:00,  1.25s/it]\n",
            "100%|██████████| 7/7 [00:03<00:00,  2.09it/s]\n",
            "100%|██████████| 62/62 [01:17<00:00,  1.25s/it]\n",
            "100%|██████████| 7/7 [00:03<00:00,  2.11it/s]\n"
          ]
        },
        {
          "name": "stdout",
          "output_type": "stream",
          "text": [
            "\n",
            "Epoch 91\n",
            "Train loss  : 0.651,   Dev loss    : 0.722\n",
            "Train acc  : 0.967,   Dev acc    : 0.951\n",
            "Train f1    : 0.967,   Dev f1    : 0.951\n"
          ]
        },
        {
          "name": "stderr",
          "output_type": "stream",
          "text": [
            "100%|██████████| 62/62 [01:17<00:00,  1.24s/it]\n",
            "100%|██████████| 7/7 [00:03<00:00,  2.11it/s]\n",
            "100%|██████████| 62/62 [01:17<00:00,  1.24s/it]\n",
            "100%|██████████| 7/7 [00:03<00:00,  2.11it/s]\n",
            "100%|██████████| 62/62 [01:17<00:00,  1.25s/it]\n",
            "100%|██████████| 7/7 [00:03<00:00,  2.11it/s]\n",
            "100%|██████████| 62/62 [01:17<00:00,  1.25s/it]\n",
            "100%|██████████| 7/7 [00:03<00:00,  2.11it/s]\n",
            "100%|██████████| 62/62 [01:17<00:00,  1.25s/it]\n",
            "100%|██████████| 7/7 [00:03<00:00,  2.11it/s]\n"
          ]
        },
        {
          "name": "stdout",
          "output_type": "stream",
          "text": [
            "\n",
            "Epoch 96\n",
            "Train loss  : 0.619,   Dev loss    : 0.705\n",
            "Train acc  : 0.970,   Dev acc    : 0.956\n",
            "Train f1    : 0.970,   Dev f1    : 0.956\n"
          ]
        },
        {
          "name": "stderr",
          "output_type": "stream",
          "text": [
            "100%|██████████| 62/62 [01:17<00:00,  1.24s/it]\n",
            "100%|██████████| 7/7 [00:03<00:00,  2.12it/s]\n",
            "100%|██████████| 62/62 [01:17<00:00,  1.25s/it]\n",
            "100%|██████████| 7/7 [00:03<00:00,  2.09it/s]\n",
            "100%|██████████| 62/62 [01:17<00:00,  1.25s/it]\n",
            "100%|██████████| 7/7 [00:03<00:00,  2.11it/s]\n",
            "100%|██████████| 62/62 [01:17<00:00,  1.24s/it]\n",
            "100%|██████████| 7/7 [00:03<00:00,  2.07it/s]\n",
            "100%|██████████| 62/62 [01:17<00:00,  1.24s/it]\n",
            "100%|██████████| 7/7 [00:03<00:00,  2.10it/s]\n"
          ]
        },
        {
          "name": "stdout",
          "output_type": "stream",
          "text": [
            "\n",
            "Epoch 101\n",
            "Train loss  : 0.585,   Dev loss    : 0.671\n",
            "Train acc  : 0.971,   Dev acc    : 0.944\n",
            "Train f1    : 0.971,   Dev f1    : 0.944\n"
          ]
        },
        {
          "name": "stderr",
          "output_type": "stream",
          "text": [
            "100%|██████████| 62/62 [01:18<00:00,  1.27s/it]\n",
            "100%|██████████| 7/7 [00:03<00:00,  2.10it/s]\n",
            "100%|██████████| 62/62 [01:17<00:00,  1.25s/it]\n",
            "100%|██████████| 7/7 [00:03<00:00,  2.12it/s]\n",
            "100%|██████████| 62/62 [01:16<00:00,  1.24s/it]\n",
            "100%|██████████| 7/7 [00:03<00:00,  2.15it/s]\n",
            "100%|██████████| 62/62 [01:17<00:00,  1.25s/it]\n",
            "100%|██████████| 7/7 [00:03<00:00,  2.09it/s]\n",
            "100%|██████████| 62/62 [01:17<00:00,  1.25s/it]\n",
            "100%|██████████| 7/7 [00:03<00:00,  2.17it/s]\n"
          ]
        },
        {
          "name": "stdout",
          "output_type": "stream",
          "text": [
            "\n",
            "Epoch 106\n",
            "Train loss  : 0.553,   Dev loss    : 0.648\n",
            "Train acc  : 0.970,   Dev acc    : 0.944\n",
            "Train f1    : 0.971,   Dev f1    : 0.945\n"
          ]
        },
        {
          "name": "stderr",
          "output_type": "stream",
          "text": [
            "100%|██████████| 62/62 [01:17<00:00,  1.25s/it]\n",
            "100%|██████████| 7/7 [00:03<00:00,  2.13it/s]\n",
            "100%|██████████| 62/62 [01:17<00:00,  1.25s/it]\n",
            "100%|██████████| 7/7 [00:03<00:00,  2.09it/s]\n",
            "100%|██████████| 62/62 [01:18<00:00,  1.26s/it]\n",
            "100%|██████████| 7/7 [00:03<00:00,  2.08it/s]\n",
            "100%|██████████| 62/62 [01:17<00:00,  1.25s/it]\n",
            "100%|██████████| 7/7 [00:03<00:00,  2.13it/s]\n",
            "100%|██████████| 62/62 [01:17<00:00,  1.25s/it]\n",
            "100%|██████████| 7/7 [00:03<00:00,  2.07it/s]\n"
          ]
        },
        {
          "name": "stdout",
          "output_type": "stream",
          "text": [
            "\n",
            "Epoch 111\n",
            "Train loss  : 0.512,   Dev loss    : 0.647\n",
            "Train acc  : 0.974,   Dev acc    : 0.933\n",
            "Train f1    : 0.974,   Dev f1    : 0.933\n"
          ]
        },
        {
          "name": "stderr",
          "output_type": "stream",
          "text": [
            "100%|██████████| 62/62 [01:17<00:00,  1.25s/it]\n",
            "100%|██████████| 7/7 [00:04<00:00,  1.68it/s]\n",
            "100%|██████████| 62/62 [01:17<00:00,  1.26s/it]\n",
            "100%|██████████| 7/7 [00:03<00:00,  2.14it/s]\n",
            "100%|██████████| 62/62 [01:17<00:00,  1.25s/it]\n",
            "100%|██████████| 7/7 [00:03<00:00,  2.06it/s]\n",
            "100%|██████████| 62/62 [01:17<00:00,  1.25s/it]\n",
            "100%|██████████| 7/7 [00:03<00:00,  2.12it/s]\n",
            "100%|██████████| 62/62 [01:17<00:00,  1.25s/it]\n",
            "100%|██████████| 7/7 [00:03<00:00,  2.11it/s]\n"
          ]
        },
        {
          "name": "stdout",
          "output_type": "stream",
          "text": [
            "\n",
            "Epoch 116\n",
            "Train loss  : 0.484,   Dev loss    : 0.563\n",
            "Train acc  : 0.973,   Dev acc    : 0.956\n",
            "Train f1    : 0.973,   Dev f1    : 0.956\n"
          ]
        },
        {
          "name": "stderr",
          "output_type": "stream",
          "text": [
            "100%|██████████| 62/62 [01:17<00:00,  1.25s/it]\n",
            "100%|██████████| 7/7 [00:03<00:00,  2.12it/s]\n",
            "100%|██████████| 62/62 [01:17<00:00,  1.25s/it]\n",
            "100%|██████████| 7/7 [00:03<00:00,  2.11it/s]\n",
            "100%|██████████| 62/62 [01:17<00:00,  1.25s/it]\n",
            "100%|██████████| 7/7 [00:03<00:00,  2.14it/s]\n",
            "100%|██████████| 62/62 [01:17<00:00,  1.25s/it]\n",
            "100%|██████████| 7/7 [00:03<00:00,  2.10it/s]\n",
            "100%|██████████| 62/62 [01:17<00:00,  1.25s/it]\n",
            "100%|██████████| 7/7 [00:03<00:00,  2.12it/s]\n"
          ]
        },
        {
          "name": "stdout",
          "output_type": "stream",
          "text": [
            "\n",
            "Epoch 121\n",
            "Train loss  : 0.454,   Dev loss    : 0.525\n",
            "Train acc  : 0.973,   Dev acc    : 0.963\n",
            "Train f1    : 0.973,   Dev f1    : 0.963\n"
          ]
        },
        {
          "name": "stderr",
          "output_type": "stream",
          "text": [
            "100%|██████████| 62/62 [01:17<00:00,  1.25s/it]\n",
            "100%|██████████| 7/7 [00:03<00:00,  2.13it/s]\n",
            "100%|██████████| 62/62 [01:17<00:00,  1.25s/it]\n",
            "100%|██████████| 7/7 [00:03<00:00,  2.11it/s]\n",
            "100%|██████████| 62/62 [01:17<00:00,  1.25s/it]\n",
            "100%|██████████| 7/7 [00:03<00:00,  2.12it/s]\n",
            "100%|██████████| 62/62 [01:18<00:00,  1.26s/it]\n",
            "100%|██████████| 7/7 [00:03<00:00,  2.03it/s]\n",
            "100%|██████████| 62/62 [01:18<00:00,  1.26s/it]\n",
            "100%|██████████| 7/7 [00:03<00:00,  2.13it/s]\n"
          ]
        },
        {
          "name": "stdout",
          "output_type": "stream",
          "text": [
            "\n",
            "Epoch 126\n",
            "Train loss  : 0.414,   Dev loss    : 0.535\n",
            "Train acc  : 0.978,   Dev acc    : 0.942\n",
            "Train f1    : 0.978,   Dev f1    : 0.942\n"
          ]
        },
        {
          "name": "stderr",
          "output_type": "stream",
          "text": [
            "100%|██████████| 62/62 [01:17<00:00,  1.26s/it]\n",
            "100%|██████████| 7/7 [00:04<00:00,  1.69it/s]\n",
            "100%|██████████| 62/62 [01:18<00:00,  1.26s/it]\n",
            "100%|██████████| 7/7 [00:03<00:00,  2.05it/s]\n",
            "100%|██████████| 62/62 [01:18<00:00,  1.26s/it]\n",
            "100%|██████████| 7/7 [00:03<00:00,  2.04it/s]\n",
            "100%|██████████| 62/62 [01:18<00:00,  1.27s/it]\n",
            "100%|██████████| 7/7 [00:03<00:00,  2.08it/s]\n",
            "100%|██████████| 62/62 [01:17<00:00,  1.25s/it]\n",
            "100%|██████████| 7/7 [00:03<00:00,  2.11it/s]\n"
          ]
        },
        {
          "name": "stdout",
          "output_type": "stream",
          "text": [
            "\n",
            "Epoch 131\n",
            "Train loss  : 0.394,   Dev loss    : 0.512\n",
            "Train acc  : 0.975,   Dev acc    : 0.942\n",
            "Train f1    : 0.975,   Dev f1    : 0.943\n"
          ]
        },
        {
          "name": "stderr",
          "output_type": "stream",
          "text": [
            "100%|██████████| 62/62 [01:17<00:00,  1.26s/it]\n",
            "100%|██████████| 7/7 [00:03<00:00,  2.11it/s]\n",
            "100%|██████████| 62/62 [01:17<00:00,  1.25s/it]\n",
            "100%|██████████| 7/7 [00:03<00:00,  2.12it/s]\n",
            "100%|██████████| 62/62 [01:17<00:00,  1.25s/it]\n",
            "100%|██████████| 7/7 [00:03<00:00,  2.11it/s]\n",
            "100%|██████████| 62/62 [01:17<00:00,  1.25s/it]\n",
            "100%|██████████| 7/7 [00:03<00:00,  2.09it/s]\n",
            "100%|██████████| 62/62 [01:17<00:00,  1.25s/it]\n",
            "100%|██████████| 7/7 [00:03<00:00,  2.12it/s]\n"
          ]
        },
        {
          "name": "stdout",
          "output_type": "stream",
          "text": [
            "\n",
            "Epoch 136\n",
            "Train loss  : 0.362,   Dev loss    : 0.489\n",
            "Train acc  : 0.979,   Dev acc    : 0.942\n",
            "Train f1    : 0.979,   Dev f1    : 0.942\n"
          ]
        },
        {
          "name": "stderr",
          "output_type": "stream",
          "text": [
            "100%|██████████| 62/62 [01:17<00:00,  1.25s/it]\n",
            "100%|██████████| 7/7 [00:03<00:00,  2.12it/s]\n",
            "100%|██████████| 62/62 [01:17<00:00,  1.25s/it]\n",
            "100%|██████████| 7/7 [00:04<00:00,  1.72it/s]\n",
            "100%|██████████| 62/62 [01:17<00:00,  1.26s/it]\n",
            "100%|██████████| 7/7 [00:03<00:00,  2.09it/s]\n",
            "100%|██████████| 62/62 [01:17<00:00,  1.25s/it]\n",
            "100%|██████████| 7/7 [00:03<00:00,  2.13it/s]\n",
            "100%|██████████| 62/62 [01:17<00:00,  1.25s/it]\n",
            "100%|██████████| 7/7 [00:03<00:00,  2.11it/s]\n"
          ]
        },
        {
          "name": "stdout",
          "output_type": "stream",
          "text": [
            "\n",
            "Epoch 141\n",
            "Train loss  : 0.342,   Dev loss    : 0.453\n",
            "Train acc  : 0.977,   Dev acc    : 0.956\n",
            "Train f1    : 0.977,   Dev f1    : 0.956\n"
          ]
        },
        {
          "name": "stderr",
          "output_type": "stream",
          "text": [
            "100%|██████████| 62/62 [01:17<00:00,  1.25s/it]\n",
            "100%|██████████| 7/7 [00:03<00:00,  2.08it/s]\n",
            "100%|██████████| 62/62 [01:17<00:00,  1.25s/it]\n",
            "100%|██████████| 7/7 [00:03<00:00,  2.14it/s]\n",
            "100%|██████████| 62/62 [01:17<00:00,  1.25s/it]\n",
            "100%|██████████| 7/7 [00:03<00:00,  2.14it/s]\n",
            "100%|██████████| 62/62 [01:17<00:00,  1.25s/it]\n",
            "100%|██████████| 7/7 [00:03<00:00,  2.13it/s]\n",
            "100%|██████████| 62/62 [01:17<00:00,  1.25s/it]\n",
            "100%|██████████| 7/7 [00:03<00:00,  2.09it/s]\n"
          ]
        },
        {
          "name": "stdout",
          "output_type": "stream",
          "text": [
            "\n",
            "Epoch 146\n",
            "Train loss  : 0.322,   Dev loss    : 0.506\n",
            "Train acc  : 0.978,   Dev acc    : 0.926\n",
            "Train f1    : 0.978,   Dev f1    : 0.927\n"
          ]
        },
        {
          "name": "stderr",
          "output_type": "stream",
          "text": [
            "100%|██████████| 62/62 [01:17<00:00,  1.25s/it]\n",
            "100%|██████████| 7/7 [00:03<00:00,  2.13it/s]\n",
            "100%|██████████| 62/62 [01:17<00:00,  1.25s/it]\n",
            "100%|██████████| 7/7 [00:03<00:00,  2.08it/s]\n",
            "100%|██████████| 62/62 [01:18<00:00,  1.26s/it]\n",
            "100%|██████████| 7/7 [00:03<00:00,  2.13it/s]\n",
            "100%|██████████| 62/62 [01:17<00:00,  1.25s/it]\n",
            "100%|██████████| 7/7 [00:03<00:00,  2.10it/s]\n",
            "100%|██████████| 62/62 [01:17<00:00,  1.25s/it]\n",
            "100%|██████████| 7/7 [00:03<00:00,  2.11it/s]\n"
          ]
        },
        {
          "name": "stdout",
          "output_type": "stream",
          "text": [
            "\n",
            "Epoch 151\n",
            "Train loss  : 0.291,   Dev loss    : 0.423\n",
            "Train acc  : 0.981,   Dev acc    : 0.944\n",
            "Train f1    : 0.981,   Dev f1    : 0.944\n"
          ]
        },
        {
          "name": "stderr",
          "output_type": "stream",
          "text": [
            "100%|██████████| 62/62 [01:17<00:00,  1.25s/it]\n",
            "100%|██████████| 7/7 [00:03<00:00,  2.11it/s]\n",
            "100%|██████████| 62/62 [01:17<00:00,  1.25s/it]\n",
            "100%|██████████| 7/7 [00:03<00:00,  2.10it/s]\n",
            "100%|██████████| 62/62 [01:17<00:00,  1.25s/it]\n",
            "100%|██████████| 7/7 [00:03<00:00,  2.14it/s]\n",
            "100%|██████████| 62/62 [01:17<00:00,  1.25s/it]\n",
            "100%|██████████| 7/7 [00:03<00:00,  2.05it/s]\n",
            "100%|██████████| 62/62 [01:17<00:00,  1.25s/it]\n",
            "100%|██████████| 7/7 [00:03<00:00,  2.12it/s]\n"
          ]
        },
        {
          "name": "stdout",
          "output_type": "stream",
          "text": [
            "\n",
            "Epoch 156\n",
            "Train loss  : 0.273,   Dev loss    : 0.397\n",
            "Train acc  : 0.981,   Dev acc    : 0.944\n",
            "Train f1    : 0.981,   Dev f1    : 0.944\n"
          ]
        },
        {
          "name": "stderr",
          "output_type": "stream",
          "text": [
            "100%|██████████| 62/62 [01:17<00:00,  1.25s/it]\n",
            "100%|██████████| 7/7 [00:03<00:00,  2.02it/s]\n",
            "100%|██████████| 62/62 [01:18<00:00,  1.27s/it]\n",
            "100%|██████████| 7/7 [00:03<00:00,  2.11it/s]\n",
            "100%|██████████| 62/62 [01:17<00:00,  1.26s/it]\n",
            "100%|██████████| 7/7 [00:03<00:00,  2.14it/s]\n",
            "100%|██████████| 62/62 [01:17<00:00,  1.25s/it]\n",
            "100%|██████████| 7/7 [00:03<00:00,  2.14it/s]\n",
            "100%|██████████| 62/62 [01:17<00:00,  1.24s/it]\n",
            "100%|██████████| 7/7 [00:03<00:00,  2.12it/s]\n"
          ]
        },
        {
          "name": "stdout",
          "output_type": "stream",
          "text": [
            "\n",
            "Epoch 161\n",
            "Train loss  : 0.268,   Dev loss    : 0.368\n",
            "Train acc  : 0.981,   Dev acc    : 0.958\n",
            "Train f1    : 0.981,   Dev f1    : 0.959\n"
          ]
        },
        {
          "name": "stderr",
          "output_type": "stream",
          "text": [
            "100%|██████████| 62/62 [01:17<00:00,  1.25s/it]\n",
            "100%|██████████| 7/7 [00:03<00:00,  2.13it/s]\n",
            "100%|██████████| 62/62 [01:17<00:00,  1.26s/it]\n",
            "100%|██████████| 7/7 [00:03<00:00,  2.12it/s]\n",
            "100%|██████████| 62/62 [01:17<00:00,  1.25s/it]\n",
            "100%|██████████| 7/7 [00:03<00:00,  2.08it/s]\n",
            "100%|██████████| 62/62 [01:17<00:00,  1.25s/it]\n",
            "100%|██████████| 7/7 [00:03<00:00,  2.09it/s]\n",
            "100%|██████████| 62/62 [01:18<00:00,  1.27s/it]\n",
            "100%|██████████| 7/7 [00:03<00:00,  2.14it/s]\n"
          ]
        },
        {
          "name": "stdout",
          "output_type": "stream",
          "text": [
            "\n",
            "Epoch 166\n",
            "Train loss  : 0.244,   Dev loss    : 0.374\n",
            "Train acc  : 0.982,   Dev acc    : 0.949\n",
            "Train f1    : 0.982,   Dev f1    : 0.949\n"
          ]
        },
        {
          "name": "stderr",
          "output_type": "stream",
          "text": [
            "100%|██████████| 62/62 [01:17<00:00,  1.25s/it]\n",
            "100%|██████████| 7/7 [00:03<00:00,  2.13it/s]\n",
            "100%|██████████| 62/62 [01:17<00:00,  1.25s/it]\n",
            "100%|██████████| 7/7 [00:03<00:00,  2.08it/s]\n",
            "100%|██████████| 62/62 [01:17<00:00,  1.25s/it]\n",
            "100%|██████████| 7/7 [00:03<00:00,  2.13it/s]\n",
            "100%|██████████| 62/62 [01:17<00:00,  1.25s/it]\n",
            "100%|██████████| 7/7 [00:03<00:00,  2.14it/s]\n",
            "100%|██████████| 62/62 [01:18<00:00,  1.26s/it]\n",
            "100%|██████████| 7/7 [00:03<00:00,  2.12it/s]\n"
          ]
        },
        {
          "name": "stdout",
          "output_type": "stream",
          "text": [
            "\n",
            "Epoch 171\n",
            "Train loss  : 0.224,   Dev loss    : 0.382\n",
            "Train acc  : 0.983,   Dev acc    : 0.949\n",
            "Train f1    : 0.983,   Dev f1    : 0.949\n"
          ]
        },
        {
          "name": "stderr",
          "output_type": "stream",
          "text": [
            "100%|██████████| 62/62 [01:17<00:00,  1.25s/it]\n",
            "100%|██████████| 7/7 [00:03<00:00,  2.11it/s]\n",
            "100%|██████████| 62/62 [01:17<00:00,  1.25s/it]\n",
            "100%|██████████| 7/7 [00:04<00:00,  1.71it/s]\n",
            "100%|██████████| 62/62 [01:17<00:00,  1.25s/it]\n",
            "100%|██████████| 7/7 [00:03<00:00,  2.07it/s]\n",
            "100%|██████████| 62/62 [01:17<00:00,  1.24s/it]\n",
            "100%|██████████| 7/7 [00:03<00:00,  2.11it/s]\n",
            "100%|██████████| 62/62 [01:17<00:00,  1.25s/it]\n",
            "100%|██████████| 7/7 [00:03<00:00,  2.09it/s]\n"
          ]
        },
        {
          "name": "stdout",
          "output_type": "stream",
          "text": [
            "\n",
            "Epoch 176\n",
            "Train loss  : 0.216,   Dev loss    : 0.387\n",
            "Train acc  : 0.981,   Dev acc    : 0.937\n",
            "Train f1    : 0.981,   Dev f1    : 0.938\n"
          ]
        },
        {
          "name": "stderr",
          "output_type": "stream",
          "text": [
            "100%|██████████| 62/62 [01:17<00:00,  1.25s/it]\n",
            "100%|██████████| 7/7 [00:03<00:00,  2.13it/s]\n",
            "100%|██████████| 62/62 [01:17<00:00,  1.26s/it]\n",
            "100%|██████████| 7/7 [00:03<00:00,  2.13it/s]\n",
            "100%|██████████| 62/62 [01:17<00:00,  1.25s/it]\n",
            "100%|██████████| 7/7 [00:03<00:00,  2.09it/s]\n",
            "100%|██████████| 62/62 [01:17<00:00,  1.25s/it]\n",
            "100%|██████████| 7/7 [00:04<00:00,  1.75it/s]\n",
            "100%|██████████| 62/62 [01:17<00:00,  1.25s/it]\n",
            "100%|██████████| 7/7 [00:03<00:00,  2.10it/s]\n"
          ]
        },
        {
          "name": "stdout",
          "output_type": "stream",
          "text": [
            "\n",
            "Epoch 181\n",
            "Train loss  : 0.207,   Dev loss    : 0.355\n",
            "Train acc  : 0.980,   Dev acc    : 0.937\n",
            "Train f1    : 0.980,   Dev f1    : 0.937\n"
          ]
        },
        {
          "name": "stderr",
          "output_type": "stream",
          "text": [
            "100%|██████████| 62/62 [01:17<00:00,  1.25s/it]\n",
            "100%|██████████| 7/7 [00:03<00:00,  2.16it/s]\n",
            "100%|██████████| 62/62 [01:17<00:00,  1.25s/it]\n",
            "100%|██████████| 7/7 [00:03<00:00,  2.13it/s]\n",
            "100%|██████████| 62/62 [01:17<00:00,  1.25s/it]\n",
            "100%|██████████| 7/7 [00:03<00:00,  2.10it/s]\n",
            "100%|██████████| 62/62 [01:17<00:00,  1.25s/it]\n",
            "100%|██████████| 7/7 [00:03<00:00,  2.09it/s]\n",
            "100%|██████████| 62/62 [01:17<00:00,  1.25s/it]\n",
            "100%|██████████| 7/7 [00:03<00:00,  2.11it/s]\n"
          ]
        },
        {
          "name": "stdout",
          "output_type": "stream",
          "text": [
            "\n",
            "Epoch 186\n",
            "Train loss  : 0.182,   Dev loss    : 0.361\n",
            "Train acc  : 0.985,   Dev acc    : 0.940\n",
            "Train f1    : 0.985,   Dev f1    : 0.939\n"
          ]
        },
        {
          "name": "stderr",
          "output_type": "stream",
          "text": [
            "100%|██████████| 62/62 [01:18<00:00,  1.26s/it]\n",
            "100%|██████████| 7/7 [00:03<00:00,  2.12it/s]\n",
            "100%|██████████| 62/62 [01:17<00:00,  1.25s/it]\n",
            "100%|██████████| 7/7 [00:03<00:00,  2.09it/s]\n",
            "100%|██████████| 62/62 [01:17<00:00,  1.25s/it]\n",
            "100%|██████████| 7/7 [00:03<00:00,  2.10it/s]\n",
            "100%|██████████| 62/62 [01:17<00:00,  1.25s/it]\n",
            "100%|██████████| 7/7 [00:03<00:00,  2.10it/s]\n",
            "100%|██████████| 62/62 [01:17<00:00,  1.25s/it]\n",
            "100%|██████████| 7/7 [00:03<00:00,  2.11it/s]\n"
          ]
        },
        {
          "name": "stdout",
          "output_type": "stream",
          "text": [
            "\n",
            "Epoch 191\n",
            "Train loss  : 0.178,   Dev loss    : 0.335\n",
            "Train acc  : 0.985,   Dev acc    : 0.947\n",
            "Train f1    : 0.985,   Dev f1    : 0.947\n"
          ]
        },
        {
          "name": "stderr",
          "output_type": "stream",
          "text": [
            "100%|██████████| 62/62 [01:17<00:00,  1.25s/it]\n",
            "100%|██████████| 7/7 [00:03<00:00,  2.12it/s]\n",
            "100%|██████████| 62/62 [01:17<00:00,  1.25s/it]\n",
            "100%|██████████| 7/7 [00:04<00:00,  1.70it/s]\n",
            "100%|██████████| 62/62 [01:17<00:00,  1.25s/it]\n",
            "100%|██████████| 7/7 [00:03<00:00,  2.09it/s]\n",
            "100%|██████████| 62/62 [01:17<00:00,  1.25s/it]\n",
            "100%|██████████| 7/7 [00:03<00:00,  2.11it/s]\n",
            "100%|██████████| 62/62 [01:17<00:00,  1.25s/it]\n",
            "100%|██████████| 7/7 [00:03<00:00,  2.09it/s]\n"
          ]
        },
        {
          "name": "stdout",
          "output_type": "stream",
          "text": [
            "\n",
            "Epoch 196\n",
            "Train loss  : 0.180,   Dev loss    : 0.340\n",
            "Train acc  : 0.982,   Dev acc    : 0.944\n",
            "Train f1    : 0.982,   Dev f1    : 0.945\n"
          ]
        },
        {
          "name": "stderr",
          "output_type": "stream",
          "text": [
            "100%|██████████| 62/62 [01:17<00:00,  1.25s/it]\n",
            "100%|██████████| 7/7 [00:03<00:00,  2.06it/s]\n",
            "100%|██████████| 62/62 [01:18<00:00,  1.26s/it]\n",
            "100%|██████████| 7/7 [00:03<00:00,  2.11it/s]\n",
            "100%|██████████| 62/62 [01:18<00:00,  1.26s/it]\n",
            "100%|██████████| 7/7 [00:03<00:00,  2.01it/s]\n",
            "100%|██████████| 62/62 [01:17<00:00,  1.25s/it]\n",
            "100%|██████████| 7/7 [00:03<00:00,  2.07it/s]\n",
            "100%|██████████| 62/62 [01:17<00:00,  1.26s/it]\n",
            "100%|██████████| 7/7 [00:03<00:00,  2.10it/s]\n"
          ]
        },
        {
          "name": "stdout",
          "output_type": "stream",
          "text": [
            "\n",
            "Epoch 201\n",
            "Train loss  : 0.153,   Dev loss    : 0.392\n",
            "Train acc  : 0.986,   Dev acc    : 0.923\n",
            "Train f1    : 0.986,   Dev f1    : 0.925\n"
          ]
        },
        {
          "name": "stderr",
          "output_type": "stream",
          "text": [
            "100%|██████████| 62/62 [01:17<00:00,  1.25s/it]\n",
            "100%|██████████| 7/7 [00:03<00:00,  2.09it/s]\n",
            "100%|██████████| 62/62 [01:17<00:00,  1.25s/it]\n",
            "100%|██████████| 7/7 [00:03<00:00,  2.06it/s]\n",
            "100%|██████████| 62/62 [01:17<00:00,  1.25s/it]\n",
            "100%|██████████| 7/7 [00:03<00:00,  2.12it/s]\n",
            "100%|██████████| 62/62 [01:20<00:00,  1.30s/it]\n",
            "100%|██████████| 7/7 [00:03<00:00,  2.06it/s]\n",
            "100%|██████████| 62/62 [01:17<00:00,  1.25s/it]\n",
            "100%|██████████| 7/7 [00:03<00:00,  2.12it/s]\n"
          ]
        },
        {
          "name": "stdout",
          "output_type": "stream",
          "text": [
            "\n",
            "Epoch 206\n",
            "Train loss  : 0.151,   Dev loss    : 0.358\n",
            "Train acc  : 0.985,   Dev acc    : 0.935\n",
            "Train f1    : 0.985,   Dev f1    : 0.935\n"
          ]
        },
        {
          "name": "stderr",
          "output_type": "stream",
          "text": [
            "100%|██████████| 62/62 [01:17<00:00,  1.26s/it]\n",
            "100%|██████████| 7/7 [00:03<00:00,  2.10it/s]\n",
            "100%|██████████| 62/62 [01:17<00:00,  1.26s/it]\n",
            "100%|██████████| 7/7 [00:03<00:00,  2.11it/s]\n",
            "100%|██████████| 62/62 [01:18<00:00,  1.26s/it]\n",
            "100%|██████████| 7/7 [00:03<00:00,  2.11it/s]\n",
            "100%|██████████| 62/62 [01:18<00:00,  1.26s/it]\n",
            "100%|██████████| 7/7 [00:03<00:00,  1.93it/s]\n",
            "100%|██████████| 62/62 [01:18<00:00,  1.26s/it]\n",
            "100%|██████████| 7/7 [00:03<00:00,  2.06it/s]\n"
          ]
        },
        {
          "name": "stdout",
          "output_type": "stream",
          "text": [
            "\n",
            "Epoch 211\n",
            "Train loss  : 0.144,   Dev loss    : 0.335\n",
            "Train acc  : 0.984,   Dev acc    : 0.942\n",
            "Train f1    : 0.984,   Dev f1    : 0.942\n"
          ]
        },
        {
          "name": "stderr",
          "output_type": "stream",
          "text": [
            "100%|██████████| 62/62 [01:17<00:00,  1.26s/it]\n",
            "100%|██████████| 7/7 [00:03<00:00,  2.11it/s]\n",
            "100%|██████████| 62/62 [01:18<00:00,  1.26s/it]\n",
            "100%|██████████| 7/7 [00:03<00:00,  2.05it/s]\n",
            "100%|██████████| 62/62 [01:17<00:00,  1.25s/it]\n",
            "100%|██████████| 7/7 [00:03<00:00,  2.07it/s]\n",
            "100%|██████████| 62/62 [01:17<00:00,  1.25s/it]\n",
            "100%|██████████| 7/7 [00:03<00:00,  2.09it/s]\n",
            "100%|██████████| 62/62 [01:18<00:00,  1.27s/it]\n",
            "100%|██████████| 7/7 [00:03<00:00,  2.05it/s]\n"
          ]
        },
        {
          "name": "stdout",
          "output_type": "stream",
          "text": [
            "\n",
            "Epoch 216\n",
            "Train loss  : 0.131,   Dev loss    : 0.309\n",
            "Train acc  : 0.987,   Dev acc    : 0.937\n",
            "Train f1    : 0.987,   Dev f1    : 0.938\n"
          ]
        },
        {
          "name": "stderr",
          "output_type": "stream",
          "text": [
            "100%|██████████| 62/62 [01:17<00:00,  1.25s/it]\n",
            "100%|██████████| 7/7 [00:03<00:00,  2.08it/s]\n",
            "100%|██████████| 62/62 [01:17<00:00,  1.25s/it]\n",
            "100%|██████████| 7/7 [00:03<00:00,  2.09it/s]\n",
            "100%|██████████| 62/62 [01:17<00:00,  1.25s/it]\n",
            "100%|██████████| 7/7 [00:03<00:00,  2.05it/s]\n",
            "100%|██████████| 62/62 [01:17<00:00,  1.25s/it]\n",
            "100%|██████████| 7/7 [00:03<00:00,  2.07it/s]\n"
          ]
        },
        {
          "name": "stdout",
          "output_type": "stream",
          "text": [
            "\n",
            "Finished Training:\n",
            "Train loss =0.454, Dev loss =0.525\n",
            "Train acc =0.973, Dev acc =0.963\n",
            "Train F1 score =0.973, Dev F1 score=0.963\n",
            "Classifier results \n",
            "\n"
          ]
        },
        {
          "name": "stderr",
          "output_type": "stream",
          "text": [
            "/usr/local/lib/python3.7/dist-packages/ipykernel_launcher.py:42: RuntimeWarning: invalid value encountered in true_divide\n"
          ]
        },
        {
          "name": "stdout",
          "output_type": "stream",
          "text": [
            "                   precision    recall  f1-score   support\n",
            "\n",
            "            lying      0.937     0.967     0.952        61\n",
            "          sitting      0.889     0.800     0.842        60\n",
            "         standing      0.920     0.719     0.807        64\n",
            "          walking      0.922     0.691     0.790        68\n",
            "          running      1.000     0.983     0.991        59\n",
            "          cycling      0.981     0.981     0.981        54\n",
            "   Nordic_walking      0.761     1.000     0.864        70\n",
            " ascending_stairs      0.867     0.788     0.825        33\n",
            "descending_stairs      0.760     0.704     0.731        27\n",
            "  vacuum_cleaning      0.893     0.909     0.901        55\n",
            "          ironing      0.836     0.980     0.902        99\n",
            "     rope_jumping      0.000     0.000     0.000         0\n",
            "\n",
            "         accuracy                          0.882       650\n",
            "        macro avg      0.814     0.794     0.799       650\n",
            "     weighted avg      0.890     0.882     0.880       650\n",
            "\n",
            "0.8796558640620386\n"
          ]
        },
        {
          "name": "stderr",
          "output_type": "stream",
          "text": [
            "/usr/local/lib/python3.7/dist-packages/ipykernel_launcher.py:76: RuntimeWarning: invalid value encountered in true_divide\n"
          ]
        },
        {
          "data": {
            "image/png": "[encoded data removed]",
            "text/plain": [
              "<Figure size 1008x360 with 2 Axes>"
            ]
          },
          "metadata": {
            "needs_background": "light"
          },
          "output_type": "display_data"
        },
        {
          "data": {
            "image/png": "[encoded data removed]",
            "text/plain": [
              "<Figure size 1008x360 with 2 Axes>"
            ]
          },
          "metadata": {
            "needs_background": "light"
          },
          "output_type": "display_data"
        },
        {
          "data": {
            "image/png": "[encoded data removed]",
            "text/plain": [
              "<Figure size 1152x576 with 2 Axes>"
            ]
          },
          "metadata": {
            "needs_background": "light"
          },
          "output_type": "display_data"
        },
        {
          "data": {
            "image/png": "[encoded data removed]",
            "text/plain": [
              "<Figure size 1152x576 with 2 Axes>"
            ]
          },
          "metadata": {
            "needs_background": "light"
          },
          "output_type": "display_data"
        }
      ],
      "source": [
        "for i in range(1):\n",
        "  model = Subject_aware_attn(num_features = X.shape[2] , input_size = X.shape[3] , num_conv_layer = 4  \\\n",
        "                    , hidden_size = 50, AG = True, AF = True, num_classes = 12, num_subjects = 9).to(device)\n",
        "\n",
        "  lr = 1e-4\n",
        "  optimizer  = Adam(model.parameters(), lr=lr , weight_decay = 1e-4) \n",
        "\n",
        "  # Run training\n",
        "  # loss_train_arr, loss_dev_arr, acc_train_arr, acc_dev_arr, f1_train_arr, f1_dev_arr = \\\n",
        "  #     train_loop(model = model, optimizer = optimizer, n_epochs=120, dl_train  = dl_train, dl_dev = dl_dev, \\\n",
        "  #              device = device , early_stopping = 10, verbose=True, alpha = 0.2)\n",
        "\n",
        "  loss_train_arr, loss_dev_arr, acc_train_arr, acc_dev_arr, f1_train_arr, f1_dev_arr, loss_train_arr_sub, loss_dev_arr_sub, f1_train_arr_sub, f1_dev_arr_sub = \\\n",
        "    train_loop(model = model, optimizer = optimizer, n_epochs=220, dl_train  = dl_train, dl_dev = dl_dev, \\\n",
        "               device = device , early_stopping = 200, verbose=True, alpha = 0.4)\n",
        "      \n",
        "  # loss_graph(loss_train_arr , loss_dev_arr , f1_train_arr , f1_dev_arr)\n",
        "\n",
        "  loss_graph(loss_train_arr , loss_dev_arr , f1_train_arr , f1_dev_arr, 'Full loss vs Epoc', 'Activity F1-score vs Epoc')\n",
        "  loss_graph(loss_train_arr_sub , loss_dev_arr_sub , f1_train_arr_sub , f1_dev_arr_sub, 'Subject classification loss vs Epoc', 'Subject F1-score vs Epoc')\n",
        "\n",
        "  f1_s_model_cls  = evaluate(model = model, dl = dl_test, caption = \"Classifier results\" ,\\\n",
        "                                               plot_cm = True, print_scores = True)"
      ]
    },
    {
      "cell_type": "markdown",
      "metadata": {
        "id": "X1bpKazOvl9g"
      },
      "source": [
        "## Summary of results"
      ]
    },
    {
      "cell_type": "code",
      "execution_count": 10,
      "metadata": {
        "id": "rI5j4AKdvoRC"
      },
      "outputs": [],
      "source": [
        "base_model_results = np.array([0.9, 0.9, 0.888, 0.888, 0.864, 0.892, 0.87, 0.92, 0.877, 0.852, 0.917, 0.878, 0.922, 0.891, 0.856, 0.92, 0.928, 0.9252, 0.855, 0.915, 0.885, 0.857, 0.925, 0.892, 0.829, 0.924, 0.902, 0.837, 0.932])"
      ]
    },
    {
      "cell_type": "code",
      "execution_count": 11,
      "metadata": {
        "colab": {
          "base_uri": "https://localhost:8080/"
        },
        "id": "51i0tPCQ6I-h",
        "outputId": "85ecd80a-f17a-48b0-98b9-209b7a9554df"
      },
      "outputs": [
        {
          "data": {
            "text/plain": [
              "0.8910758620689655"
            ]
          },
          "execution_count": 11,
          "metadata": {},
          "output_type": "execute_result"
        }
      ],
      "source": [
        "np.mean(base_model_results)"
      ]
    },
    {
      "cell_type": "markdown",
      "metadata": {
        "id": "zY375RLj3vDv"
      },
      "source": [
        "alpha = 0.2: 0.853, 0.88, 0.9, 0.875, 0.916, 0.898, 0.788, 0.870, 0.850, 0.890, 0.907, 0.9, 0.914 avg- 0.88"
      ]
    },
    {
      "cell_type": "markdown",
      "metadata": {
        "id": "ykNjWkhaLxkz"
      },
      "source": [
        "for alpha 0.3: 0.892, 0.913, 0.89, 0.78, 0.923 0.912, 0.788, 0.835, avg - 0.866"
      ]
    },
    {
      "cell_type": "markdown",
      "metadata": {
        "id": "Rzt8jRQLT4x-"
      },
      "source": [
        "for alpha = 0.4:\n",
        "0.916, 0.904, 0.918, 0.855, 0.932, 0.87, 0.902, 0.828 avg - 0.891"
      ]
    },
    {
      "cell_type": "markdown",
      "metadata": {
        "id": "tZZi0FkWmjx-"
      },
      "source": [
        "for alpha = 0.6: 0.744, 0.785, 0.835 avg - 0.788"
      ]
    },
    {
      "cell_type": "code",
      "execution_count": 18,
      "metadata": {
        "colab": {
          "base_uri": "https://localhost:8080/",
          "height": 326
        },
        "id": "o9-oNvXe3fFw",
        "outputId": "f2bd4c9e-68cf-42b0-a15d-3ce15bafc510"
      },
      "outputs": [
        {
          "data": {
            "image/png": "[encoded data removed]",
            "text/plain": [
              "<Figure size 576x288 with 1 Axes>"
            ]
          },
          "metadata": {
            "needs_background": "light"
          },
          "output_type": "display_data"
        }
      ],
      "source": [
        "labels = ['Base', '0.2', '0.3', '0.4', '0.6']\n",
        "averages = [0.88, 0.866, 0.891, 0.788]\n",
        "x = np.arange(4) + 1\n",
        "xp = np.arange(5)\n",
        "\n",
        "fig, ax = plt.subplots(1, 1, figsize=(8, 4))\n",
        "width = 0.2\n",
        "ax.bar(0, 0.891, width)\n",
        "ax.bar(x, averages , width)\n",
        "\n",
        "ax.set_title(\"F1 score with different alpha compared to base\", fontsize=16)\n",
        "ax.set_ylabel(\"F1 score\", fontsize=16)\n",
        "ax.set_xlabel(\"Alpha\", fontsize=16)\n",
        "ax.set_xticks(xp)\n",
        "ax.set_xticklabels(labels ,fontsize=14,rotation=45)\n",
        "\n",
        "for p in ax.patches:\n",
        "    ax.annotate(str(p.get_height()), (p.get_x() * 0.99, p.get_height() * 1.010))"
      ]
    }
  ],
  "metadata": {
    "accelerator": "GPU",
    "colab": {
      "collapsed_sections": [],
      "name": "subject_aware_AttnSense model training and evaluation.ipynb",
      "provenance": []
    },
    "gpuClass": "standard",
    "kernelspec": {
      "display_name": "Python 3.9.5 ('base')",
      "language": "python",
      "name": "python3"
    },
    "language_info": {
      "codemirror_mode": {
        "name": "ipython",
        "version": 3
      },
      "file_extension": ".py",
      "mimetype": "text/x-python",
      "name": "python",
      "nbconvert_exporter": "python",
      "pygments_lexer": "ipython3",
      "version": "3.9.5"
    },
    "vscode": {
      "interpreter": {
        "hash": "f244470e7c19422344884beeacb7db76a45d68f5909abdaa83b4b1bc76b8120a"
      }
    }
  },
  "nbformat": 4,
  "nbformat_minor": 0
}
